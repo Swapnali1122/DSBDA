{
 "cells": [
  {
   "cell_type": "code",
   "execution_count": 43,
   "id": "c2572ec8",
   "metadata": {
    "_cell_guid": "b1076dfc-b9ad-4769-8c92-a6c4dae69d19",
    "_uuid": "8f2839f25d086af736a60e9eeb907d3b93b6e0e5",
    "execution": {
     "iopub.execute_input": "2023-03-31T07:41:50.280478Z",
     "iopub.status.busy": "2023-03-31T07:41:50.279434Z",
     "iopub.status.idle": "2023-03-31T07:41:51.480800Z",
     "shell.execute_reply": "2023-03-31T07:41:51.479104Z"
    },
    "papermill": {
     "duration": 1.217059,
     "end_time": "2023-03-31T07:41:51.483993",
     "exception": false,
     "start_time": "2023-03-31T07:41:50.266934",
     "status": "completed"
    },
    "tags": []
   },
   "outputs": [],
   "source": [
    "import numpy as np # linear algebra\n",
    "import pandas as pd # data processing, CSV file I/O (e.g. pd.read_csv)\n",
    "import matplotlib.pyplot as plt\n",
    "import seaborn as sns\n"
   ]
  },
  {
   "cell_type": "code",
   "execution_count": 44,
   "id": "401e6f03",
   "metadata": {
    "execution": {
     "iopub.execute_input": "2023-03-31T07:41:51.504096Z",
     "iopub.status.busy": "2023-03-31T07:41:51.503705Z",
     "iopub.status.idle": "2023-03-31T07:41:51.638592Z",
     "shell.execute_reply": "2023-03-31T07:41:51.637171Z"
    },
    "papermill": {
     "duration": 0.148295,
     "end_time": "2023-03-31T07:41:51.641559",
     "exception": false,
     "start_time": "2023-03-31T07:41:51.493264",
     "status": "completed"
    },
    "tags": []
   },
   "outputs": [],
   "source": [
    "\n",
    "df_state = pd.read_csv(\"StatewiseTestingDetails.csv\") \n",
    "df_covid = pd.read_csv(\"covid_19_india.csv\")\n",
    "df_vacc = pd.read_csv(\"covid_vaccine_statewise.csv\")"
   ]
  },
  {
   "cell_type": "code",
   "execution_count": 45,
   "id": "11cd8441",
   "metadata": {
    "execution": {
     "iopub.execute_input": "2023-03-31T07:41:51.661950Z",
     "iopub.status.busy": "2023-03-31T07:41:51.661528Z",
     "iopub.status.idle": "2023-03-31T07:41:51.682763Z",
     "shell.execute_reply": "2023-03-31T07:41:51.681785Z"
    },
    "papermill": {
     "duration": 0.034129,
     "end_time": "2023-03-31T07:41:51.685241",
     "exception": false,
     "start_time": "2023-03-31T07:41:51.651112",
     "status": "completed"
    },
    "tags": []
   },
   "outputs": [
    {
     "data": {
      "text/plain": [
       "(array(['Andaman and Nicobar Islands', 'Andhra Pradesh',\n",
       "        'Arunachal Pradesh', 'Assam', 'Bihar', 'Chandigarh',\n",
       "        'Chhattisgarh', 'Dadra and Nagar Haveli and Daman and Diu',\n",
       "        'Delhi', 'Goa', 'Gujarat', 'Haryana', 'Himachal Pradesh',\n",
       "        'Jammu and Kashmir', 'Jharkhand', 'Karnataka', 'Kerala', 'Ladakh',\n",
       "        'Lakshadweep', 'Madhya Pradesh', 'Maharashtra', 'Manipur',\n",
       "        'Meghalaya', 'Mizoram', 'Nagaland', 'Odisha', 'Puducherry',\n",
       "        'Punjab', 'Rajasthan', 'Sikkim', 'Tamil Nadu', 'Telangana',\n",
       "        'Tripura', 'Uttar Pradesh', 'Uttarakhand', 'West Bengal'],\n",
       "       dtype=object),\n",
       " 36)"
      ]
     },
     "execution_count": 45,
     "metadata": {},
     "output_type": "execute_result"
    }
   ],
   "source": [
    "df_state['State'].unique(), df_state['State'].nunique()"
   ]
  },
  {
   "cell_type": "code",
   "execution_count": 46,
   "id": "fc2874c9",
   "metadata": {
    "execution": {
     "iopub.execute_input": "2023-03-31T07:41:51.705645Z",
     "iopub.status.busy": "2023-03-31T07:41:51.705198Z",
     "iopub.status.idle": "2023-03-31T07:41:51.714960Z",
     "shell.execute_reply": "2023-03-31T07:41:51.713819Z"
    },
    "papermill": {
     "duration": 0.022877,
     "end_time": "2023-03-31T07:41:51.717364",
     "exception": false,
     "start_time": "2023-03-31T07:41:51.694487",
     "status": "completed"
    },
    "tags": []
   },
   "outputs": [
    {
     "data": {
      "text/plain": [
       "(array(['India', 'Andaman and Nicobar Islands', 'Andhra Pradesh',\n",
       "        'Arunachal Pradesh', 'Assam', 'Bihar', 'Chandigarh',\n",
       "        'Chhattisgarh', 'Dadra and Nagar Haveli and Daman and Diu',\n",
       "        'Delhi', 'Goa', 'Gujarat', 'Haryana', 'Himachal Pradesh',\n",
       "        'Jammu and Kashmir', 'Jharkhand', 'Karnataka', 'Kerala', 'Ladakh',\n",
       "        'Lakshadweep', 'Madhya Pradesh', 'Maharashtra', 'Manipur',\n",
       "        'Meghalaya', 'Mizoram', 'Nagaland', 'Odisha', 'Puducherry',\n",
       "        'Punjab', 'Rajasthan', 'Sikkim', 'Tamil Nadu', 'Telangana',\n",
       "        'Tripura', 'Uttar Pradesh', 'Uttarakhand', 'West Bengal'],\n",
       "       dtype=object),\n",
       " 37)"
      ]
     },
     "execution_count": 46,
     "metadata": {},
     "output_type": "execute_result"
    }
   ],
   "source": [
    "df_vacc['State'].unique(), df_vacc['State'].nunique()"
   ]
  },
  {
   "cell_type": "code",
   "execution_count": 47,
   "id": "5f8c306c",
   "metadata": {
    "execution": {
     "iopub.execute_input": "2023-03-31T07:41:51.738357Z",
     "iopub.status.busy": "2023-03-31T07:41:51.737814Z",
     "iopub.status.idle": "2023-03-31T07:41:51.747927Z",
     "shell.execute_reply": "2023-03-31T07:41:51.747077Z"
    },
    "papermill": {
     "duration": 0.02295,
     "end_time": "2023-03-31T07:41:51.750106",
     "exception": false,
     "start_time": "2023-03-31T07:41:51.727156",
     "status": "completed"
    },
    "tags": []
   },
   "outputs": [
    {
     "data": {
      "text/plain": [
       "(array(['Kerala', 'Telengana', 'Delhi', 'Rajasthan', 'Uttar Pradesh',\n",
       "        'Haryana', 'Ladakh', 'Tamil Nadu', 'Karnataka', 'Maharashtra',\n",
       "        'Punjab', 'Jammu and Kashmir', 'Andhra Pradesh', 'Uttarakhand',\n",
       "        'Odisha', 'Puducherry', 'West Bengal', 'Chhattisgarh',\n",
       "        'Chandigarh', 'Gujarat', 'Himachal Pradesh', 'Madhya Pradesh',\n",
       "        'Bihar', 'Manipur', 'Mizoram', 'Andaman and Nicobar Islands',\n",
       "        'Goa', 'Unassigned', 'Assam', 'Jharkhand', 'Arunachal Pradesh',\n",
       "        'Tripura', 'Nagaland', 'Meghalaya',\n",
       "        'Dadra and Nagar Haveli and Daman and Diu',\n",
       "        'Cases being reassigned to states', 'Sikkim', 'Daman & Diu',\n",
       "        'Lakshadweep', 'Telangana', 'Dadra and Nagar Haveli', 'Bihar****',\n",
       "        'Madhya Pradesh***', 'Himanchal Pradesh', 'Karanataka',\n",
       "        'Maharashtra***'], dtype=object),\n",
       " 46)"
      ]
     },
     "execution_count": 47,
     "metadata": {},
     "output_type": "execute_result"
    }
   ],
   "source": [
    "df_covid['State/UnionTerritory'].unique(), df_covid['State/UnionTerritory'].nunique()"
   ]
  },
  {
   "cell_type": "code",
   "execution_count": 48,
   "id": "f1d6c575",
   "metadata": {
    "execution": {
     "iopub.execute_input": "2023-03-31T07:41:51.770923Z",
     "iopub.status.busy": "2023-03-31T07:41:51.770514Z",
     "iopub.status.idle": "2023-03-31T07:41:51.781133Z",
     "shell.execute_reply": "2023-03-31T07:41:51.779898Z"
    },
    "papermill": {
     "duration": 0.023865,
     "end_time": "2023-03-31T07:41:51.783434",
     "exception": false,
     "start_time": "2023-03-31T07:41:51.759569",
     "status": "completed"
    },
    "tags": []
   },
   "outputs": [
    {
     "data": {
      "text/plain": [
       "{'India': 'India',\n",
       " 'Andaman and Nicobar Islands': 'Andaman and Nicobar Islands',\n",
       " 'Andhra Pradesh': 'Andhra Pradesh',\n",
       " 'Arunachal Pradesh': 'Arunachal Pradesh',\n",
       " 'Assam': 'Assam',\n",
       " 'Bihar': 'Bihar',\n",
       " 'Chandigarh': 'Chandigarh',\n",
       " 'Chhattisgarh': 'Chhattisgarh',\n",
       " 'Dadra and Nagar Haveli and Daman and Diu': 'Dadra and Nagar Haveli and Daman and Diu',\n",
       " 'Delhi': 'Delhi',\n",
       " 'Goa': 'Goa',\n",
       " 'Gujarat': 'Gujarat',\n",
       " 'Haryana': 'Haryana',\n",
       " 'Himachal Pradesh': 'Himachal Pradesh',\n",
       " 'Jammu and Kashmir': 'Jammu and Kashmir',\n",
       " 'Jharkhand': 'Jharkhand',\n",
       " 'Karnataka': 'Karnataka',\n",
       " 'Kerala': 'Kerala',\n",
       " 'Ladakh': 'Ladakh',\n",
       " 'Lakshadweep': 'Lakshadweep',\n",
       " 'Madhya Pradesh': 'Madhya Pradesh',\n",
       " 'Maharashtra': 'Maharashtra',\n",
       " 'Manipur': 'Manipur',\n",
       " 'Meghalaya': 'Meghalaya',\n",
       " 'Mizoram': 'Mizoram',\n",
       " 'Nagaland': 'Nagaland',\n",
       " 'Odisha': 'Odisha',\n",
       " 'Puducherry': 'Puducherry',\n",
       " 'Punjab': 'Punjab',\n",
       " 'Rajasthan': 'Rajasthan',\n",
       " 'Sikkim': 'Sikkim',\n",
       " 'Tamil Nadu': 'Tamil Nadu',\n",
       " 'Telangana': 'Telangana',\n",
       " 'Tripura': 'Tripura',\n",
       " 'Uttar Pradesh': 'Uttar Pradesh',\n",
       " 'Uttarakhand': 'Uttarakhand',\n",
       " 'West Bengal': 'West Bengal'}"
      ]
     },
     "execution_count": 48,
     "metadata": {},
     "output_type": "execute_result"
    }
   ],
   "source": [
    "dict(zip(df_vacc['State'].unique(), df_vacc['State'].unique()))"
   ]
  },
  {
   "cell_type": "code",
   "execution_count": 49,
   "id": "85ca482c",
   "metadata": {
    "execution": {
     "iopub.execute_input": "2023-03-31T07:41:51.804711Z",
     "iopub.status.busy": "2023-03-31T07:41:51.803927Z",
     "iopub.status.idle": "2023-03-31T07:41:51.814462Z",
     "shell.execute_reply": "2023-03-31T07:41:51.813142Z"
    },
    "papermill": {
     "duration": 0.02389,
     "end_time": "2023-03-31T07:41:51.816813",
     "exception": false,
     "start_time": "2023-03-31T07:41:51.792923",
     "status": "completed"
    },
    "tags": []
   },
   "outputs": [
    {
     "data": {
      "text/plain": [
       "{'India': 'India',\n",
       " 'Andaman and Nicobar Islands': 'Andaman and Nicobar Islands',\n",
       " 'Andhra Pradesh': 'Andhra Pradesh',\n",
       " 'Arunachal Pradesh': 'Arunachal Pradesh',\n",
       " 'Assam': 'Assam',\n",
       " 'Bihar': 'Bihar',\n",
       " 'Chandigarh': 'Chandigarh',\n",
       " 'Chhattisgarh': 'Chhattisgarh',\n",
       " 'Dadra and Nagar Haveli and Daman and Diu': 'Dadra and Nagar Haveli and Daman and Diu',\n",
       " 'Delhi': 'Delhi',\n",
       " 'Goa': 'Goa',\n",
       " 'Gujarat': 'Gujarat',\n",
       " 'Haryana': 'Haryana',\n",
       " 'Himachal Pradesh': 'Himachal Pradesh',\n",
       " 'Jammu and Kashmir': 'Jammu and Kashmir',\n",
       " 'Jharkhand': 'Jharkhand',\n",
       " 'Karnataka': 'Karnataka',\n",
       " 'Kerala': 'Kerala',\n",
       " 'Ladakh': 'Ladakh',\n",
       " 'Lakshadweep': 'Lakshadweep',\n",
       " 'Madhya Pradesh': 'Madhya Pradesh',\n",
       " 'Maharashtra': 'Maharashtra',\n",
       " 'Manipur': 'Manipur',\n",
       " 'Meghalaya': 'Meghalaya',\n",
       " 'Mizoram': 'Mizoram',\n",
       " 'Nagaland': 'Nagaland',\n",
       " 'Odisha': 'Odisha',\n",
       " 'Puducherry': 'Puducherry',\n",
       " 'Punjab': 'Punjab',\n",
       " 'Rajasthan': 'Rajasthan',\n",
       " 'Sikkim': 'Sikkim',\n",
       " 'Tamil Nadu': 'Tamil Nadu',\n",
       " 'Telangana': 'Telangana',\n",
       " 'Tripura': 'Tripura',\n",
       " 'Uttar Pradesh': 'Uttar Pradesh',\n",
       " 'Uttarakhand': 'Uttarakhand',\n",
       " 'West Bengal': 'West Bengal'}"
      ]
     },
     "execution_count": 49,
     "metadata": {},
     "output_type": "execute_result"
    }
   ],
   "source": [
    "dict(zip(df_vacc['State'].unique(), df_vacc['State'].unique()))"
   ]
  },
  {
   "cell_type": "code",
   "execution_count": 50,
   "id": "4ecbafdc",
   "metadata": {
    "execution": {
     "iopub.execute_input": "2023-03-31T07:41:51.839213Z",
     "iopub.status.busy": "2023-03-31T07:41:51.838468Z",
     "iopub.status.idle": "2023-03-31T07:41:51.844434Z",
     "shell.execute_reply": "2023-03-31T07:41:51.843577Z"
    },
    "papermill": {
     "duration": 0.019471,
     "end_time": "2023-03-31T07:41:51.846718",
     "exception": false,
     "start_time": "2023-03-31T07:41:51.827247",
     "status": "completed"
    },
    "tags": []
   },
   "outputs": [],
   "source": [
    "state_correction_dict = {\n",
    "  'Bihar****': 'Bihar',\n",
    "  'Dadra and Nagar Haveli': 'Dadra and Nagar Haveli and Daman and Diu',\n",
    "  'Madhya Pradesh***': 'Madhya Pradesh',\n",
    "  'Maharashtra***': 'Maharashtra','Himachal Pradesh':'Himanchal Pradesh','Karnataka':'Karanataka',\n",
    "'Telengana':'Telangana','Dadra and Nagar Haveli and Daman and Diu':'Daman & Diu'}"
   ]
  },
  {
   "cell_type": "code",
   "execution_count": 51,
   "id": "a8495c04",
   "metadata": {
    "execution": {
     "iopub.execute_input": "2023-03-31T07:41:51.868395Z",
     "iopub.status.busy": "2023-03-31T07:41:51.867670Z",
     "iopub.status.idle": "2023-03-31T07:41:51.872489Z",
     "shell.execute_reply": "2023-03-31T07:41:51.871576Z"
    },
    "papermill": {
     "duration": 0.018347,
     "end_time": "2023-03-31T07:41:51.874891",
     "exception": false,
     "start_time": "2023-03-31T07:41:51.856544",
     "status": "completed"
    },
    "tags": []
   },
   "outputs": [],
   "source": [
    "def state_correction(state):\n",
    "  try:\n",
    "    return state_correction_dict[state]\n",
    "  except:\n",
    "    return state"
   ]
  },
  {
   "cell_type": "code",
   "execution_count": 52,
   "id": "766f88d5",
   "metadata": {
    "execution": {
     "iopub.execute_input": "2023-03-31T07:41:51.896467Z",
     "iopub.status.busy": "2023-03-31T07:41:51.895749Z",
     "iopub.status.idle": "2023-03-31T07:41:51.908139Z",
     "shell.execute_reply": "2023-03-31T07:41:51.906955Z"
    },
    "papermill": {
     "duration": 0.026228,
     "end_time": "2023-03-31T07:41:51.910876",
     "exception": false,
     "start_time": "2023-03-31T07:41:51.884648",
     "status": "completed"
    },
    "tags": []
   },
   "outputs": [],
   "source": [
    "df_covid['State/UnionTerritory'] = df_covid['State/UnionTerritory'].apply(state_correction)"
   ]
  },
  {
   "cell_type": "code",
   "execution_count": 53,
   "id": "1c0047e7",
   "metadata": {
    "execution": {
     "iopub.execute_input": "2023-03-31T07:41:51.932580Z",
     "iopub.status.busy": "2023-03-31T07:41:51.931461Z",
     "iopub.status.idle": "2023-03-31T07:41:51.953015Z",
     "shell.execute_reply": "2023-03-31T07:41:51.951718Z"
    },
    "papermill": {
     "duration": 0.035331,
     "end_time": "2023-03-31T07:41:51.955831",
     "exception": false,
     "start_time": "2023-03-31T07:41:51.920500",
     "status": "completed"
    },
    "tags": []
   },
   "outputs": [],
   "source": [
    "df_vacc['Updated On'] = pd.to_datetime(df_vacc['Updated On'])\n",
    "df_state['Date'] = pd.to_datetime(df_state['Date'])\n",
    "df_covid['Date'] = pd.to_datetime(df_covid['Date'])"
   ]
  },
  {
   "cell_type": "code",
   "execution_count": 54,
   "id": "c8b9f090",
   "metadata": {
    "execution": {
     "iopub.execute_input": "2023-03-31T07:41:51.977388Z",
     "iopub.status.busy": "2023-03-31T07:41:51.976399Z",
     "iopub.status.idle": "2023-03-31T07:41:51.983773Z",
     "shell.execute_reply": "2023-03-31T07:41:51.982610Z"
    },
    "papermill": {
     "duration": 0.020462,
     "end_time": "2023-03-31T07:41:51.985960",
     "exception": false,
     "start_time": "2023-03-31T07:41:51.965498",
     "status": "completed"
    },
    "tags": []
   },
   "outputs": [
    {
     "data": {
      "text/plain": [
       "(Index(['Date', 'State', 'TotalSamples', 'Negative', 'Positive'], dtype='object'),\n",
       " (16336, 5))"
      ]
     },
     "execution_count": 54,
     "metadata": {},
     "output_type": "execute_result"
    }
   ],
   "source": [
    "df_state.columns, df_state.shape"
   ]
  },
  {
   "cell_type": "code",
   "execution_count": 55,
   "id": "3e1ea57d",
   "metadata": {
    "execution": {
     "iopub.execute_input": "2023-03-31T07:41:52.007512Z",
     "iopub.status.busy": "2023-03-31T07:41:52.006848Z",
     "iopub.status.idle": "2023-03-31T07:41:52.013428Z",
     "shell.execute_reply": "2023-03-31T07:41:52.012365Z"
    },
    "papermill": {
     "duration": 0.020087,
     "end_time": "2023-03-31T07:41:52.015754",
     "exception": false,
     "start_time": "2023-03-31T07:41:51.995667",
     "status": "completed"
    },
    "tags": []
   },
   "outputs": [
    {
     "data": {
      "text/plain": [
       "(Index(['Sno', 'Date', 'Time', 'State/UnionTerritory',\n",
       "        'ConfirmedIndianNational', 'ConfirmedForeignNational', 'Cured',\n",
       "        'Deaths', 'Confirmed'],\n",
       "       dtype='object'),\n",
       " (18110, 9))"
      ]
     },
     "execution_count": 55,
     "metadata": {},
     "output_type": "execute_result"
    }
   ],
   "source": [
    "df_covid.columns, df_covid.shape"
   ]
  },
  {
   "cell_type": "code",
   "execution_count": 56,
   "id": "f695ef07",
   "metadata": {
    "execution": {
     "iopub.execute_input": "2023-03-31T07:41:52.037472Z",
     "iopub.status.busy": "2023-03-31T07:41:52.036451Z",
     "iopub.status.idle": "2023-03-31T07:41:52.063589Z",
     "shell.execute_reply": "2023-03-31T07:41:52.062677Z"
    },
    "papermill": {
     "duration": 0.040883,
     "end_time": "2023-03-31T07:41:52.066345",
     "exception": false,
     "start_time": "2023-03-31T07:41:52.025462",
     "status": "completed"
    },
    "tags": []
   },
   "outputs": [],
   "source": [
    "df = df_covid.merge(df_state, left_on = [\"State/UnionTerritory\",\"Date\"], right_on=[\"State\",\"Date\"], how='left')"
   ]
  },
  {
   "cell_type": "code",
   "execution_count": 57,
   "id": "57980dd7",
   "metadata": {
    "execution": {
     "iopub.execute_input": "2023-03-31T07:41:52.088696Z",
     "iopub.status.busy": "2023-03-31T07:41:52.087399Z",
     "iopub.status.idle": "2023-03-31T07:41:52.114398Z",
     "shell.execute_reply": "2023-03-31T07:41:52.112841Z"
    },
    "papermill": {
     "duration": 0.040951,
     "end_time": "2023-03-31T07:41:52.117165",
     "exception": false,
     "start_time": "2023-03-31T07:41:52.076214",
     "status": "completed"
    },
    "tags": []
   },
   "outputs": [
    {
     "name": "stdout",
     "output_type": "stream",
     "text": [
      "<class 'pandas.core.frame.DataFrame'>\n",
      "Int64Index: 18111 entries, 0 to 18110\n",
      "Data columns (total 13 columns):\n",
      " #   Column                    Non-Null Count  Dtype         \n",
      "---  ------                    --------------  -----         \n",
      " 0   Sno                       18111 non-null  int64         \n",
      " 1   Date                      18111 non-null  datetime64[ns]\n",
      " 2   Time                      18111 non-null  object        \n",
      " 3   State/UnionTerritory      18111 non-null  object        \n",
      " 4   ConfirmedIndianNational   18111 non-null  object        \n",
      " 5   ConfirmedForeignNational  18111 non-null  object        \n",
      " 6   Cured                     18111 non-null  int64         \n",
      " 7   Deaths                    18111 non-null  int64         \n",
      " 8   Confirmed                 18111 non-null  int64         \n",
      " 9   State                     15131 non-null  object        \n",
      " 10  TotalSamples              15131 non-null  float64       \n",
      " 11  Negative                  6148 non-null   object        \n",
      " 12  Positive                  5197 non-null   float64       \n",
      "dtypes: datetime64[ns](1), float64(2), int64(4), object(6)\n",
      "memory usage: 1.9+ MB\n"
     ]
    }
   ],
   "source": [
    "df.info()"
   ]
  },
  {
   "cell_type": "code",
   "execution_count": 58,
   "id": "3da18b49",
   "metadata": {
    "execution": {
     "iopub.execute_input": "2023-03-31T07:41:52.139285Z",
     "iopub.status.busy": "2023-03-31T07:41:52.138851Z",
     "iopub.status.idle": "2023-03-31T07:41:52.145320Z",
     "shell.execute_reply": "2023-03-31T07:41:52.144507Z"
    },
    "papermill": {
     "duration": 0.020388,
     "end_time": "2023-03-31T07:41:52.147563",
     "exception": false,
     "start_time": "2023-03-31T07:41:52.127175",
     "status": "completed"
    },
    "tags": []
   },
   "outputs": [
    {
     "data": {
      "text/plain": [
       "(18111, 13)"
      ]
     },
     "execution_count": 58,
     "metadata": {},
     "output_type": "execute_result"
    }
   ],
   "source": [
    "df.shape # gives the number of rows and columns in df"
   ]
  },
  {
   "cell_type": "code",
   "execution_count": 59,
   "id": "52468586",
   "metadata": {
    "execution": {
     "iopub.execute_input": "2023-03-31T07:41:52.170470Z",
     "iopub.status.busy": "2023-03-31T07:41:52.169389Z",
     "iopub.status.idle": "2023-03-31T07:41:52.216352Z",
     "shell.execute_reply": "2023-03-31T07:41:52.214856Z"
    },
    "papermill": {
     "duration": 0.061168,
     "end_time": "2023-03-31T07:41:52.218966",
     "exception": false,
     "start_time": "2023-03-31T07:41:52.157798",
     "status": "completed"
    },
    "tags": []
   },
   "outputs": [
    {
     "data": {
      "text/html": [
       "<div>\n",
       "<style scoped>\n",
       "    .dataframe tbody tr th:only-of-type {\n",
       "        vertical-align: middle;\n",
       "    }\n",
       "\n",
       "    .dataframe tbody tr th {\n",
       "        vertical-align: top;\n",
       "    }\n",
       "\n",
       "    .dataframe thead th {\n",
       "        text-align: right;\n",
       "    }\n",
       "</style>\n",
       "<table border=\"1\" class=\"dataframe\">\n",
       "  <thead>\n",
       "    <tr style=\"text-align: right;\">\n",
       "      <th></th>\n",
       "      <th>Sno</th>\n",
       "      <th>Cured</th>\n",
       "      <th>Deaths</th>\n",
       "      <th>Confirmed</th>\n",
       "      <th>TotalSamples</th>\n",
       "      <th>Positive</th>\n",
       "    </tr>\n",
       "  </thead>\n",
       "  <tbody>\n",
       "    <tr>\n",
       "      <th>count</th>\n",
       "      <td>10.00000</td>\n",
       "      <td>10.0</td>\n",
       "      <td>10.0</td>\n",
       "      <td>10.000000</td>\n",
       "      <td>0.0</td>\n",
       "      <td>0.0</td>\n",
       "    </tr>\n",
       "    <tr>\n",
       "      <th>mean</th>\n",
       "      <td>5.50000</td>\n",
       "      <td>0.0</td>\n",
       "      <td>0.0</td>\n",
       "      <td>2.500000</td>\n",
       "      <td>NaN</td>\n",
       "      <td>NaN</td>\n",
       "    </tr>\n",
       "    <tr>\n",
       "      <th>std</th>\n",
       "      <td>3.02765</td>\n",
       "      <td>0.0</td>\n",
       "      <td>0.0</td>\n",
       "      <td>0.849837</td>\n",
       "      <td>NaN</td>\n",
       "      <td>NaN</td>\n",
       "    </tr>\n",
       "    <tr>\n",
       "      <th>min</th>\n",
       "      <td>1.00000</td>\n",
       "      <td>0.0</td>\n",
       "      <td>0.0</td>\n",
       "      <td>1.000000</td>\n",
       "      <td>NaN</td>\n",
       "      <td>NaN</td>\n",
       "    </tr>\n",
       "    <tr>\n",
       "      <th>25%</th>\n",
       "      <td>3.25000</td>\n",
       "      <td>0.0</td>\n",
       "      <td>0.0</td>\n",
       "      <td>2.250000</td>\n",
       "      <td>NaN</td>\n",
       "      <td>NaN</td>\n",
       "    </tr>\n",
       "    <tr>\n",
       "      <th>50%</th>\n",
       "      <td>5.50000</td>\n",
       "      <td>0.0</td>\n",
       "      <td>0.0</td>\n",
       "      <td>3.000000</td>\n",
       "      <td>NaN</td>\n",
       "      <td>NaN</td>\n",
       "    </tr>\n",
       "    <tr>\n",
       "      <th>75%</th>\n",
       "      <td>7.75000</td>\n",
       "      <td>0.0</td>\n",
       "      <td>0.0</td>\n",
       "      <td>3.000000</td>\n",
       "      <td>NaN</td>\n",
       "      <td>NaN</td>\n",
       "    </tr>\n",
       "    <tr>\n",
       "      <th>max</th>\n",
       "      <td>10.00000</td>\n",
       "      <td>0.0</td>\n",
       "      <td>0.0</td>\n",
       "      <td>3.000000</td>\n",
       "      <td>NaN</td>\n",
       "      <td>NaN</td>\n",
       "    </tr>\n",
       "  </tbody>\n",
       "</table>\n",
       "</div>"
      ],
      "text/plain": [
       "            Sno  Cured  Deaths  Confirmed  TotalSamples  Positive\n",
       "count  10.00000   10.0    10.0  10.000000           0.0       0.0\n",
       "mean    5.50000    0.0     0.0   2.500000           NaN       NaN\n",
       "std     3.02765    0.0     0.0   0.849837           NaN       NaN\n",
       "min     1.00000    0.0     0.0   1.000000           NaN       NaN\n",
       "25%     3.25000    0.0     0.0   2.250000           NaN       NaN\n",
       "50%     5.50000    0.0     0.0   3.000000           NaN       NaN\n",
       "75%     7.75000    0.0     0.0   3.000000           NaN       NaN\n",
       "max    10.00000    0.0     0.0   3.000000           NaN       NaN"
      ]
     },
     "execution_count": 59,
     "metadata": {},
     "output_type": "execute_result"
    }
   ],
   "source": [
    "df_head=df.head(10) # head() displays first 10 rows of df\n",
    "#The describe() method returns description of the data in the DataFrame. If the DataFrame contains numerical data, the description contains these information for each column: count - The number of not-empty values. mean - The average (mean) value.\n",
    "df_head.describe() "
   ]
  },
  {
   "cell_type": "code",
   "execution_count": 60,
   "id": "01adceb2",
   "metadata": {
    "execution": {
     "iopub.execute_input": "2023-03-31T07:41:52.242023Z",
     "iopub.status.busy": "2023-03-31T07:41:52.241581Z",
     "iopub.status.idle": "2023-03-31T07:41:52.258364Z",
     "shell.execute_reply": "2023-03-31T07:41:52.257072Z"
    },
    "papermill": {
     "duration": 0.031628,
     "end_time": "2023-03-31T07:41:52.260990",
     "exception": false,
     "start_time": "2023-03-31T07:41:52.229362",
     "status": "completed"
    },
    "tags": []
   },
   "outputs": [
    {
     "data": {
      "text/plain": [
       "Index(['Sno', 'Date', 'Cured', 'Deaths', 'Confirmed', 'TotalSamples',\n",
       "       'Positive'],\n",
       "      dtype='object')"
      ]
     },
     "execution_count": 60,
     "metadata": {},
     "output_type": "execute_result"
    }
   ],
   "source": [
    "num=df.select_dtypes(exclude=['object']).columns # \n",
    "num"
   ]
  },
  {
   "cell_type": "code",
   "execution_count": 61,
   "id": "3f8b14c2",
   "metadata": {
    "execution": {
     "iopub.execute_input": "2023-03-31T07:41:52.283762Z",
     "iopub.status.busy": "2023-03-31T07:41:52.283338Z",
     "iopub.status.idle": "2023-03-31T07:41:52.294107Z",
     "shell.execute_reply": "2023-03-31T07:41:52.292825Z"
    },
    "papermill": {
     "duration": 0.025117,
     "end_time": "2023-03-31T07:41:52.296512",
     "exception": false,
     "start_time": "2023-03-31T07:41:52.271395",
     "status": "completed"
    },
    "tags": []
   },
   "outputs": [
    {
     "data": {
      "text/plain": [
       "Index(['Time', 'State/UnionTerritory', 'ConfirmedIndianNational',\n",
       "       'ConfirmedForeignNational', 'State', 'Negative'],\n",
       "      dtype='object')"
      ]
     },
     "execution_count": 61,
     "metadata": {},
     "output_type": "execute_result"
    }
   ],
   "source": [
    "strings=df.select_dtypes(include=['object']).columns\n",
    "strings"
   ]
  },
  {
   "cell_type": "code",
   "execution_count": 62,
   "id": "86a71e15",
   "metadata": {
    "execution": {
     "iopub.execute_input": "2023-03-31T07:41:52.319967Z",
     "iopub.status.busy": "2023-03-31T07:41:52.318945Z",
     "iopub.status.idle": "2023-03-31T07:41:52.337330Z",
     "shell.execute_reply": "2023-03-31T07:41:52.336364Z"
    },
    "papermill": {
     "duration": 0.032798,
     "end_time": "2023-03-31T07:41:52.339840",
     "exception": false,
     "start_time": "2023-03-31T07:41:52.307042",
     "status": "completed"
    },
    "tags": []
   },
   "outputs": [
    {
     "data": {
      "text/plain": [
       "0          1.5\n",
       "1          1.5\n",
       "2          3.0\n",
       "3         21.0\n",
       "4         21.0\n",
       "         ...  \n",
       "18106    528.0\n",
       "18107    492.0\n",
       "18108    515.0\n",
       "18109    527.0\n",
       "18110    512.0\n",
       "Name: Confirmed, Length: 18111, dtype: float64"
      ]
     },
     "execution_count": 62,
     "metadata": {},
     "output_type": "execute_result"
    }
   ],
   "source": [
    "df1=df.groupby(['State/UnionTerritory'])['Confirmed'].rank()\n",
    "df1"
   ]
  },
  {
   "cell_type": "code",
   "execution_count": 63,
   "id": "10154eeb",
   "metadata": {
    "execution": {
     "iopub.execute_input": "2023-03-31T07:41:52.364267Z",
     "iopub.status.busy": "2023-03-31T07:41:52.363838Z",
     "iopub.status.idle": "2023-03-31T07:41:52.394144Z",
     "shell.execute_reply": "2023-03-31T07:41:52.393285Z"
    },
    "papermill": {
     "duration": 0.044547,
     "end_time": "2023-03-31T07:41:52.396436",
     "exception": false,
     "start_time": "2023-03-31T07:41:52.351889",
     "status": "completed"
    },
    "tags": []
   },
   "outputs": [
    {
     "data": {
      "text/html": [
       "<div>\n",
       "<style scoped>\n",
       "    .dataframe tbody tr th:only-of-type {\n",
       "        vertical-align: middle;\n",
       "    }\n",
       "\n",
       "    .dataframe tbody tr th {\n",
       "        vertical-align: top;\n",
       "    }\n",
       "\n",
       "    .dataframe thead th {\n",
       "        text-align: right;\n",
       "    }\n",
       "</style>\n",
       "<table border=\"1\" class=\"dataframe\">\n",
       "  <thead>\n",
       "    <tr style=\"text-align: right;\">\n",
       "      <th></th>\n",
       "      <th>Sno</th>\n",
       "      <th>Date</th>\n",
       "      <th>Time</th>\n",
       "      <th>State/UnionTerritory</th>\n",
       "      <th>ConfirmedIndianNational</th>\n",
       "      <th>ConfirmedForeignNational</th>\n",
       "      <th>Cured</th>\n",
       "      <th>Deaths</th>\n",
       "      <th>Confirmed</th>\n",
       "      <th>State</th>\n",
       "      <th>TotalSamples</th>\n",
       "      <th>Negative</th>\n",
       "      <th>Positive</th>\n",
       "    </tr>\n",
       "  </thead>\n",
       "  <tbody>\n",
       "    <tr>\n",
       "      <th>0</th>\n",
       "      <td>False</td>\n",
       "      <td>False</td>\n",
       "      <td>False</td>\n",
       "      <td>False</td>\n",
       "      <td>False</td>\n",
       "      <td>False</td>\n",
       "      <td>False</td>\n",
       "      <td>False</td>\n",
       "      <td>False</td>\n",
       "      <td>True</td>\n",
       "      <td>True</td>\n",
       "      <td>True</td>\n",
       "      <td>True</td>\n",
       "    </tr>\n",
       "    <tr>\n",
       "      <th>1</th>\n",
       "      <td>False</td>\n",
       "      <td>False</td>\n",
       "      <td>False</td>\n",
       "      <td>False</td>\n",
       "      <td>False</td>\n",
       "      <td>False</td>\n",
       "      <td>False</td>\n",
       "      <td>False</td>\n",
       "      <td>False</td>\n",
       "      <td>True</td>\n",
       "      <td>True</td>\n",
       "      <td>True</td>\n",
       "      <td>True</td>\n",
       "    </tr>\n",
       "    <tr>\n",
       "      <th>2</th>\n",
       "      <td>False</td>\n",
       "      <td>False</td>\n",
       "      <td>False</td>\n",
       "      <td>False</td>\n",
       "      <td>False</td>\n",
       "      <td>False</td>\n",
       "      <td>False</td>\n",
       "      <td>False</td>\n",
       "      <td>False</td>\n",
       "      <td>True</td>\n",
       "      <td>True</td>\n",
       "      <td>True</td>\n",
       "      <td>True</td>\n",
       "    </tr>\n",
       "    <tr>\n",
       "      <th>3</th>\n",
       "      <td>False</td>\n",
       "      <td>False</td>\n",
       "      <td>False</td>\n",
       "      <td>False</td>\n",
       "      <td>False</td>\n",
       "      <td>False</td>\n",
       "      <td>False</td>\n",
       "      <td>False</td>\n",
       "      <td>False</td>\n",
       "      <td>True</td>\n",
       "      <td>True</td>\n",
       "      <td>True</td>\n",
       "      <td>True</td>\n",
       "    </tr>\n",
       "    <tr>\n",
       "      <th>4</th>\n",
       "      <td>False</td>\n",
       "      <td>False</td>\n",
       "      <td>False</td>\n",
       "      <td>False</td>\n",
       "      <td>False</td>\n",
       "      <td>False</td>\n",
       "      <td>False</td>\n",
       "      <td>False</td>\n",
       "      <td>False</td>\n",
       "      <td>True</td>\n",
       "      <td>True</td>\n",
       "      <td>True</td>\n",
       "      <td>True</td>\n",
       "    </tr>\n",
       "    <tr>\n",
       "      <th>...</th>\n",
       "      <td>...</td>\n",
       "      <td>...</td>\n",
       "      <td>...</td>\n",
       "      <td>...</td>\n",
       "      <td>...</td>\n",
       "      <td>...</td>\n",
       "      <td>...</td>\n",
       "      <td>...</td>\n",
       "      <td>...</td>\n",
       "      <td>...</td>\n",
       "      <td>...</td>\n",
       "      <td>...</td>\n",
       "      <td>...</td>\n",
       "    </tr>\n",
       "    <tr>\n",
       "      <th>18106</th>\n",
       "      <td>False</td>\n",
       "      <td>False</td>\n",
       "      <td>False</td>\n",
       "      <td>False</td>\n",
       "      <td>False</td>\n",
       "      <td>False</td>\n",
       "      <td>False</td>\n",
       "      <td>False</td>\n",
       "      <td>False</td>\n",
       "      <td>True</td>\n",
       "      <td>True</td>\n",
       "      <td>True</td>\n",
       "      <td>True</td>\n",
       "    </tr>\n",
       "    <tr>\n",
       "      <th>18107</th>\n",
       "      <td>False</td>\n",
       "      <td>False</td>\n",
       "      <td>False</td>\n",
       "      <td>False</td>\n",
       "      <td>False</td>\n",
       "      <td>False</td>\n",
       "      <td>False</td>\n",
       "      <td>False</td>\n",
       "      <td>False</td>\n",
       "      <td>True</td>\n",
       "      <td>True</td>\n",
       "      <td>True</td>\n",
       "      <td>True</td>\n",
       "    </tr>\n",
       "    <tr>\n",
       "      <th>18108</th>\n",
       "      <td>False</td>\n",
       "      <td>False</td>\n",
       "      <td>False</td>\n",
       "      <td>False</td>\n",
       "      <td>False</td>\n",
       "      <td>False</td>\n",
       "      <td>False</td>\n",
       "      <td>False</td>\n",
       "      <td>False</td>\n",
       "      <td>True</td>\n",
       "      <td>True</td>\n",
       "      <td>True</td>\n",
       "      <td>True</td>\n",
       "    </tr>\n",
       "    <tr>\n",
       "      <th>18109</th>\n",
       "      <td>False</td>\n",
       "      <td>False</td>\n",
       "      <td>False</td>\n",
       "      <td>False</td>\n",
       "      <td>False</td>\n",
       "      <td>False</td>\n",
       "      <td>False</td>\n",
       "      <td>False</td>\n",
       "      <td>False</td>\n",
       "      <td>True</td>\n",
       "      <td>True</td>\n",
       "      <td>True</td>\n",
       "      <td>True</td>\n",
       "    </tr>\n",
       "    <tr>\n",
       "      <th>18110</th>\n",
       "      <td>False</td>\n",
       "      <td>False</td>\n",
       "      <td>False</td>\n",
       "      <td>False</td>\n",
       "      <td>False</td>\n",
       "      <td>False</td>\n",
       "      <td>False</td>\n",
       "      <td>False</td>\n",
       "      <td>False</td>\n",
       "      <td>True</td>\n",
       "      <td>True</td>\n",
       "      <td>True</td>\n",
       "      <td>True</td>\n",
       "    </tr>\n",
       "  </tbody>\n",
       "</table>\n",
       "<p>18111 rows × 13 columns</p>\n",
       "</div>"
      ],
      "text/plain": [
       "         Sno   Date   Time  State/UnionTerritory  ConfirmedIndianNational  \\\n",
       "0      False  False  False                 False                    False   \n",
       "1      False  False  False                 False                    False   \n",
       "2      False  False  False                 False                    False   \n",
       "3      False  False  False                 False                    False   \n",
       "4      False  False  False                 False                    False   \n",
       "...      ...    ...    ...                   ...                      ...   \n",
       "18106  False  False  False                 False                    False   \n",
       "18107  False  False  False                 False                    False   \n",
       "18108  False  False  False                 False                    False   \n",
       "18109  False  False  False                 False                    False   \n",
       "18110  False  False  False                 False                    False   \n",
       "\n",
       "       ConfirmedForeignNational  Cured  Deaths  Confirmed  State  \\\n",
       "0                         False  False   False      False   True   \n",
       "1                         False  False   False      False   True   \n",
       "2                         False  False   False      False   True   \n",
       "3                         False  False   False      False   True   \n",
       "4                         False  False   False      False   True   \n",
       "...                         ...    ...     ...        ...    ...   \n",
       "18106                     False  False   False      False   True   \n",
       "18107                     False  False   False      False   True   \n",
       "18108                     False  False   False      False   True   \n",
       "18109                     False  False   False      False   True   \n",
       "18110                     False  False   False      False   True   \n",
       "\n",
       "       TotalSamples  Negative  Positive  \n",
       "0              True      True      True  \n",
       "1              True      True      True  \n",
       "2              True      True      True  \n",
       "3              True      True      True  \n",
       "4              True      True      True  \n",
       "...             ...       ...       ...  \n",
       "18106          True      True      True  \n",
       "18107          True      True      True  \n",
       "18108          True      True      True  \n",
       "18109          True      True      True  \n",
       "18110          True      True      True  \n",
       "\n",
       "[18111 rows x 13 columns]"
      ]
     },
     "execution_count": 63,
     "metadata": {},
     "output_type": "execute_result"
    }
   ],
   "source": [
    "df.isna()"
   ]
  },
  {
   "cell_type": "markdown",
   "id": "aa91c79d",
   "metadata": {
    "papermill": {
     "duration": 0.0105,
     "end_time": "2023-03-31T07:41:52.417950",
     "exception": false,
     "start_time": "2023-03-31T07:41:52.407450",
     "status": "completed"
    },
    "tags": []
   },
   "source": [
    "**Histogram to show Cured Cases**"
   ]
  },
  {
   "cell_type": "code",
   "execution_count": 64,
   "id": "8fd4a975",
   "metadata": {
    "execution": {
     "iopub.execute_input": "2023-03-31T07:41:52.441953Z",
     "iopub.status.busy": "2023-03-31T07:41:52.441496Z",
     "iopub.status.idle": "2023-03-31T07:41:52.703369Z",
     "shell.execute_reply": "2023-03-31T07:41:52.702134Z"
    },
    "papermill": {
     "duration": 0.276983,
     "end_time": "2023-03-31T07:41:52.705862",
     "exception": false,
     "start_time": "2023-03-31T07:41:52.428879",
     "status": "completed"
    },
    "tags": []
   },
   "outputs": [
    {
     "data": {
      "image/png": "[encoded data removed]",
      "text/plain": [
       "<Figure size 432x288 with 1 Axes>"
      ]
     },
     "metadata": {
      "needs_background": "light"
     },
     "output_type": "display_data"
    }
   ],
   "source": [
    "import matplotlib.pyplot as plt\n",
    "plt.hist(df['Cured'], bins=15, color= \"Blue\" )\n",
    "plt.show()"
   ]
  },
  {
   "cell_type": "code",
   "execution_count": 65,
   "id": "0ad129ca",
   "metadata": {
    "execution": {
     "iopub.execute_input": "2023-03-31T07:41:52.731224Z",
     "iopub.status.busy": "2023-03-31T07:41:52.730576Z",
     "iopub.status.idle": "2023-03-31T07:42:45.432026Z",
     "shell.execute_reply": "2023-03-31T07:42:45.430615Z"
    },
    "papermill": {
     "duration": 52.730902,
     "end_time": "2023-03-31T07:42:45.448168",
     "exception": false,
     "start_time": "2023-03-31T07:41:52.717266",
     "status": "completed"
    },
    "tags": []
   },
   "outputs": [
    {
     "data": {
      "image/png": "[encoded data removed]",
      "text/plain": [
       "<Figure size 432x288 with 1 Axes>"
      ]
     },
     "metadata": {
      "needs_background": "light"
     },
     "output_type": "display_data"
    }
   ],
   "source": [
    "color = ['lightcoral', 'darkorange']\n",
    "sns.scatterplot(x=df[\"Positive\"],y= df[\"Negative\"])\n",
    "plt.show()"
   ]
  },
  {
   "cell_type": "code",
   "execution_count": 66,
   "id": "0988f647",
   "metadata": {
    "execution": {
     "iopub.execute_input": "2023-03-31T07:42:45.476084Z",
     "iopub.status.busy": "2023-03-31T07:42:45.475140Z",
     "iopub.status.idle": "2023-03-31T07:42:45.511144Z",
     "shell.execute_reply": "2023-03-31T07:42:45.509834Z"
    },
    "papermill": {
     "duration": 0.053821,
     "end_time": "2023-03-31T07:42:45.514083",
     "exception": false,
     "start_time": "2023-03-31T07:42:45.460262",
     "status": "completed"
    },
    "tags": []
   },
   "outputs": [
    {
     "data": {
      "text/html": [
       "<div>\n",
       "<style scoped>\n",
       "    .dataframe tbody tr th:only-of-type {\n",
       "        vertical-align: middle;\n",
       "    }\n",
       "\n",
       "    .dataframe tbody tr th {\n",
       "        vertical-align: top;\n",
       "    }\n",
       "\n",
       "    .dataframe thead th {\n",
       "        text-align: right;\n",
       "    }\n",
       "</style>\n",
       "<table border=\"1\" class=\"dataframe\">\n",
       "  <thead>\n",
       "    <tr style=\"text-align: right;\">\n",
       "      <th></th>\n",
       "      <th>Sno</th>\n",
       "      <th>Date</th>\n",
       "      <th>Time</th>\n",
       "      <th>State/UnionTerritory</th>\n",
       "      <th>ConfirmedIndianNational</th>\n",
       "      <th>ConfirmedForeignNational</th>\n",
       "      <th>Cured</th>\n",
       "      <th>Deaths</th>\n",
       "      <th>Confirmed</th>\n",
       "      <th>State</th>\n",
       "      <th>TotalSamples</th>\n",
       "      <th>Negative</th>\n",
       "      <th>Positive</th>\n",
       "      <th>Day</th>\n",
       "      <th>Month</th>\n",
       "      <th>Year</th>\n",
       "    </tr>\n",
       "  </thead>\n",
       "  <tbody>\n",
       "    <tr>\n",
       "      <th>0</th>\n",
       "      <td>1</td>\n",
       "      <td>2020-01-30</td>\n",
       "      <td>6:00 PM</td>\n",
       "      <td>Kerala</td>\n",
       "      <td>1</td>\n",
       "      <td>0</td>\n",
       "      <td>0</td>\n",
       "      <td>0</td>\n",
       "      <td>1</td>\n",
       "      <td>NaN</td>\n",
       "      <td>NaN</td>\n",
       "      <td>NaN</td>\n",
       "      <td>NaN</td>\n",
       "      <td>30</td>\n",
       "      <td>1</td>\n",
       "      <td>2020</td>\n",
       "    </tr>\n",
       "    <tr>\n",
       "      <th>1</th>\n",
       "      <td>2</td>\n",
       "      <td>2020-01-31</td>\n",
       "      <td>6:00 PM</td>\n",
       "      <td>Kerala</td>\n",
       "      <td>1</td>\n",
       "      <td>0</td>\n",
       "      <td>0</td>\n",
       "      <td>0</td>\n",
       "      <td>1</td>\n",
       "      <td>NaN</td>\n",
       "      <td>NaN</td>\n",
       "      <td>NaN</td>\n",
       "      <td>NaN</td>\n",
       "      <td>31</td>\n",
       "      <td>1</td>\n",
       "      <td>2020</td>\n",
       "    </tr>\n",
       "    <tr>\n",
       "      <th>2</th>\n",
       "      <td>3</td>\n",
       "      <td>2020-02-01</td>\n",
       "      <td>6:00 PM</td>\n",
       "      <td>Kerala</td>\n",
       "      <td>2</td>\n",
       "      <td>0</td>\n",
       "      <td>0</td>\n",
       "      <td>0</td>\n",
       "      <td>2</td>\n",
       "      <td>NaN</td>\n",
       "      <td>NaN</td>\n",
       "      <td>NaN</td>\n",
       "      <td>NaN</td>\n",
       "      <td>1</td>\n",
       "      <td>2</td>\n",
       "      <td>2020</td>\n",
       "    </tr>\n",
       "    <tr>\n",
       "      <th>3</th>\n",
       "      <td>4</td>\n",
       "      <td>2020-02-02</td>\n",
       "      <td>6:00 PM</td>\n",
       "      <td>Kerala</td>\n",
       "      <td>3</td>\n",
       "      <td>0</td>\n",
       "      <td>0</td>\n",
       "      <td>0</td>\n",
       "      <td>3</td>\n",
       "      <td>NaN</td>\n",
       "      <td>NaN</td>\n",
       "      <td>NaN</td>\n",
       "      <td>NaN</td>\n",
       "      <td>2</td>\n",
       "      <td>2</td>\n",
       "      <td>2020</td>\n",
       "    </tr>\n",
       "    <tr>\n",
       "      <th>4</th>\n",
       "      <td>5</td>\n",
       "      <td>2020-02-03</td>\n",
       "      <td>6:00 PM</td>\n",
       "      <td>Kerala</td>\n",
       "      <td>3</td>\n",
       "      <td>0</td>\n",
       "      <td>0</td>\n",
       "      <td>0</td>\n",
       "      <td>3</td>\n",
       "      <td>NaN</td>\n",
       "      <td>NaN</td>\n",
       "      <td>NaN</td>\n",
       "      <td>NaN</td>\n",
       "      <td>3</td>\n",
       "      <td>2</td>\n",
       "      <td>2020</td>\n",
       "    </tr>\n",
       "    <tr>\n",
       "      <th>...</th>\n",
       "      <td>...</td>\n",
       "      <td>...</td>\n",
       "      <td>...</td>\n",
       "      <td>...</td>\n",
       "      <td>...</td>\n",
       "      <td>...</td>\n",
       "      <td>...</td>\n",
       "      <td>...</td>\n",
       "      <td>...</td>\n",
       "      <td>...</td>\n",
       "      <td>...</td>\n",
       "      <td>...</td>\n",
       "      <td>...</td>\n",
       "      <td>...</td>\n",
       "      <td>...</td>\n",
       "      <td>...</td>\n",
       "    </tr>\n",
       "    <tr>\n",
       "      <th>18106</th>\n",
       "      <td>18106</td>\n",
       "      <td>2021-08-11</td>\n",
       "      <td>8:00 AM</td>\n",
       "      <td>Telangana</td>\n",
       "      <td>-</td>\n",
       "      <td>-</td>\n",
       "      <td>638410</td>\n",
       "      <td>3831</td>\n",
       "      <td>650353</td>\n",
       "      <td>NaN</td>\n",
       "      <td>NaN</td>\n",
       "      <td>NaN</td>\n",
       "      <td>NaN</td>\n",
       "      <td>11</td>\n",
       "      <td>8</td>\n",
       "      <td>2021</td>\n",
       "    </tr>\n",
       "    <tr>\n",
       "      <th>18107</th>\n",
       "      <td>18107</td>\n",
       "      <td>2021-08-11</td>\n",
       "      <td>8:00 AM</td>\n",
       "      <td>Tripura</td>\n",
       "      <td>-</td>\n",
       "      <td>-</td>\n",
       "      <td>77811</td>\n",
       "      <td>773</td>\n",
       "      <td>80660</td>\n",
       "      <td>NaN</td>\n",
       "      <td>NaN</td>\n",
       "      <td>NaN</td>\n",
       "      <td>NaN</td>\n",
       "      <td>11</td>\n",
       "      <td>8</td>\n",
       "      <td>2021</td>\n",
       "    </tr>\n",
       "    <tr>\n",
       "      <th>18108</th>\n",
       "      <td>18108</td>\n",
       "      <td>2021-08-11</td>\n",
       "      <td>8:00 AM</td>\n",
       "      <td>Uttarakhand</td>\n",
       "      <td>-</td>\n",
       "      <td>-</td>\n",
       "      <td>334650</td>\n",
       "      <td>7368</td>\n",
       "      <td>342462</td>\n",
       "      <td>NaN</td>\n",
       "      <td>NaN</td>\n",
       "      <td>NaN</td>\n",
       "      <td>NaN</td>\n",
       "      <td>11</td>\n",
       "      <td>8</td>\n",
       "      <td>2021</td>\n",
       "    </tr>\n",
       "    <tr>\n",
       "      <th>18109</th>\n",
       "      <td>18109</td>\n",
       "      <td>2021-08-11</td>\n",
       "      <td>8:00 AM</td>\n",
       "      <td>Uttar Pradesh</td>\n",
       "      <td>-</td>\n",
       "      <td>-</td>\n",
       "      <td>1685492</td>\n",
       "      <td>22775</td>\n",
       "      <td>1708812</td>\n",
       "      <td>NaN</td>\n",
       "      <td>NaN</td>\n",
       "      <td>NaN</td>\n",
       "      <td>NaN</td>\n",
       "      <td>11</td>\n",
       "      <td>8</td>\n",
       "      <td>2021</td>\n",
       "    </tr>\n",
       "    <tr>\n",
       "      <th>18110</th>\n",
       "      <td>18110</td>\n",
       "      <td>2021-08-11</td>\n",
       "      <td>8:00 AM</td>\n",
       "      <td>West Bengal</td>\n",
       "      <td>-</td>\n",
       "      <td>-</td>\n",
       "      <td>1506532</td>\n",
       "      <td>18252</td>\n",
       "      <td>1534999</td>\n",
       "      <td>NaN</td>\n",
       "      <td>NaN</td>\n",
       "      <td>NaN</td>\n",
       "      <td>NaN</td>\n",
       "      <td>11</td>\n",
       "      <td>8</td>\n",
       "      <td>2021</td>\n",
       "    </tr>\n",
       "  </tbody>\n",
       "</table>\n",
       "<p>18111 rows × 16 columns</p>\n",
       "</div>"
      ],
      "text/plain": [
       "         Sno       Date     Time State/UnionTerritory ConfirmedIndianNational  \\\n",
       "0          1 2020-01-30  6:00 PM               Kerala                       1   \n",
       "1          2 2020-01-31  6:00 PM               Kerala                       1   \n",
       "2          3 2020-02-01  6:00 PM               Kerala                       2   \n",
       "3          4 2020-02-02  6:00 PM               Kerala                       3   \n",
       "4          5 2020-02-03  6:00 PM               Kerala                       3   \n",
       "...      ...        ...      ...                  ...                     ...   \n",
       "18106  18106 2021-08-11  8:00 AM            Telangana                       -   \n",
       "18107  18107 2021-08-11  8:00 AM              Tripura                       -   \n",
       "18108  18108 2021-08-11  8:00 AM          Uttarakhand                       -   \n",
       "18109  18109 2021-08-11  8:00 AM        Uttar Pradesh                       -   \n",
       "18110  18110 2021-08-11  8:00 AM          West Bengal                       -   \n",
       "\n",
       "      ConfirmedForeignNational    Cured  Deaths  Confirmed State  \\\n",
       "0                            0        0       0          1   NaN   \n",
       "1                            0        0       0          1   NaN   \n",
       "2                            0        0       0          2   NaN   \n",
       "3                            0        0       0          3   NaN   \n",
       "4                            0        0       0          3   NaN   \n",
       "...                        ...      ...     ...        ...   ...   \n",
       "18106                        -   638410    3831     650353   NaN   \n",
       "18107                        -    77811     773      80660   NaN   \n",
       "18108                        -   334650    7368     342462   NaN   \n",
       "18109                        -  1685492   22775    1708812   NaN   \n",
       "18110                        -  1506532   18252    1534999   NaN   \n",
       "\n",
       "       TotalSamples Negative  Positive  Day  Month  Year  \n",
       "0               NaN      NaN       NaN   30      1  2020  \n",
       "1               NaN      NaN       NaN   31      1  2020  \n",
       "2               NaN      NaN       NaN    1      2  2020  \n",
       "3               NaN      NaN       NaN    2      2  2020  \n",
       "4               NaN      NaN       NaN    3      2  2020  \n",
       "...             ...      ...       ...  ...    ...   ...  \n",
       "18106           NaN      NaN       NaN   11      8  2021  \n",
       "18107           NaN      NaN       NaN   11      8  2021  \n",
       "18108           NaN      NaN       NaN   11      8  2021  \n",
       "18109           NaN      NaN       NaN   11      8  2021  \n",
       "18110           NaN      NaN       NaN   11      8  2021  \n",
       "\n",
       "[18111 rows x 16 columns]"
      ]
     },
     "execution_count": 66,
     "metadata": {},
     "output_type": "execute_result"
    }
   ],
   "source": [
    "df['Day'],df['Month'],df['Year']=df['Date'].dt.day,df['Date'].dt.month,df['Date'].dt.year\n",
    "df"
   ]
  },
  {
   "cell_type": "code",
   "execution_count": 67,
   "id": "70d87d54",
   "metadata": {
    "execution": {
     "iopub.execute_input": "2023-03-31T07:42:45.542189Z",
     "iopub.status.busy": "2023-03-31T07:42:45.541321Z",
     "iopub.status.idle": "2023-03-31T07:42:45.549175Z",
     "shell.execute_reply": "2023-03-31T07:42:45.548204Z"
    },
    "papermill": {
     "duration": 0.024906,
     "end_time": "2023-03-31T07:42:45.551741",
     "exception": false,
     "start_time": "2023-03-31T07:42:45.526835",
     "status": "completed"
    },
    "tags": []
   },
   "outputs": [],
   "source": [
    "df3=df[df['Year']==2020] # slicing dataframe on basis of Year 2020"
   ]
  },
  {
   "cell_type": "code",
   "execution_count": 68,
   "id": "a55ffd30",
   "metadata": {
    "execution": {
     "iopub.execute_input": "2023-03-31T07:42:45.579693Z",
     "iopub.status.busy": "2023-03-31T07:42:45.578397Z",
     "iopub.status.idle": "2023-03-31T07:42:45.607651Z",
     "shell.execute_reply": "2023-03-31T07:42:45.606314Z"
    },
    "papermill": {
     "duration": 0.045896,
     "end_time": "2023-03-31T07:42:45.610324",
     "exception": false,
     "start_time": "2023-03-31T07:42:45.564428",
     "status": "completed"
    },
    "tags": []
   },
   "outputs": [
    {
     "data": {
      "text/html": [
       "<div>\n",
       "<style scoped>\n",
       "    .dataframe tbody tr th:only-of-type {\n",
       "        vertical-align: middle;\n",
       "    }\n",
       "\n",
       "    .dataframe tbody tr th {\n",
       "        vertical-align: top;\n",
       "    }\n",
       "\n",
       "    .dataframe thead th {\n",
       "        text-align: right;\n",
       "    }\n",
       "</style>\n",
       "<table border=\"1\" class=\"dataframe\">\n",
       "  <thead>\n",
       "    <tr style=\"text-align: right;\">\n",
       "      <th></th>\n",
       "      <th>Sno</th>\n",
       "      <th>Date</th>\n",
       "      <th>Time</th>\n",
       "      <th>State/UnionTerritory</th>\n",
       "      <th>ConfirmedIndianNational</th>\n",
       "      <th>ConfirmedForeignNational</th>\n",
       "      <th>Cured</th>\n",
       "      <th>Deaths</th>\n",
       "      <th>Confirmed</th>\n",
       "      <th>State</th>\n",
       "      <th>TotalSamples</th>\n",
       "      <th>Negative</th>\n",
       "      <th>Positive</th>\n",
       "      <th>Day</th>\n",
       "      <th>Month</th>\n",
       "      <th>Year</th>\n",
       "    </tr>\n",
       "  </thead>\n",
       "  <tbody>\n",
       "    <tr>\n",
       "      <th>0</th>\n",
       "      <td>1</td>\n",
       "      <td>2020-01-30</td>\n",
       "      <td>6:00 PM</td>\n",
       "      <td>Kerala</td>\n",
       "      <td>1</td>\n",
       "      <td>0</td>\n",
       "      <td>0</td>\n",
       "      <td>0</td>\n",
       "      <td>1</td>\n",
       "      <td>NaN</td>\n",
       "      <td>NaN</td>\n",
       "      <td>NaN</td>\n",
       "      <td>NaN</td>\n",
       "      <td>30</td>\n",
       "      <td>1</td>\n",
       "      <td>2020</td>\n",
       "    </tr>\n",
       "    <tr>\n",
       "      <th>1</th>\n",
       "      <td>2</td>\n",
       "      <td>2020-01-31</td>\n",
       "      <td>6:00 PM</td>\n",
       "      <td>Kerala</td>\n",
       "      <td>1</td>\n",
       "      <td>0</td>\n",
       "      <td>0</td>\n",
       "      <td>0</td>\n",
       "      <td>1</td>\n",
       "      <td>NaN</td>\n",
       "      <td>NaN</td>\n",
       "      <td>NaN</td>\n",
       "      <td>NaN</td>\n",
       "      <td>31</td>\n",
       "      <td>1</td>\n",
       "      <td>2020</td>\n",
       "    </tr>\n",
       "    <tr>\n",
       "      <th>2</th>\n",
       "      <td>3</td>\n",
       "      <td>2020-02-01</td>\n",
       "      <td>6:00 PM</td>\n",
       "      <td>Kerala</td>\n",
       "      <td>2</td>\n",
       "      <td>0</td>\n",
       "      <td>0</td>\n",
       "      <td>0</td>\n",
       "      <td>2</td>\n",
       "      <td>NaN</td>\n",
       "      <td>NaN</td>\n",
       "      <td>NaN</td>\n",
       "      <td>NaN</td>\n",
       "      <td>1</td>\n",
       "      <td>2</td>\n",
       "      <td>2020</td>\n",
       "    </tr>\n",
       "    <tr>\n",
       "      <th>3</th>\n",
       "      <td>4</td>\n",
       "      <td>2020-02-02</td>\n",
       "      <td>6:00 PM</td>\n",
       "      <td>Kerala</td>\n",
       "      <td>3</td>\n",
       "      <td>0</td>\n",
       "      <td>0</td>\n",
       "      <td>0</td>\n",
       "      <td>3</td>\n",
       "      <td>NaN</td>\n",
       "      <td>NaN</td>\n",
       "      <td>NaN</td>\n",
       "      <td>NaN</td>\n",
       "      <td>2</td>\n",
       "      <td>2</td>\n",
       "      <td>2020</td>\n",
       "    </tr>\n",
       "    <tr>\n",
       "      <th>4</th>\n",
       "      <td>5</td>\n",
       "      <td>2020-02-03</td>\n",
       "      <td>6:00 PM</td>\n",
       "      <td>Kerala</td>\n",
       "      <td>3</td>\n",
       "      <td>0</td>\n",
       "      <td>0</td>\n",
       "      <td>0</td>\n",
       "      <td>3</td>\n",
       "      <td>NaN</td>\n",
       "      <td>NaN</td>\n",
       "      <td>NaN</td>\n",
       "      <td>NaN</td>\n",
       "      <td>3</td>\n",
       "      <td>2</td>\n",
       "      <td>2020</td>\n",
       "    </tr>\n",
       "    <tr>\n",
       "      <th>...</th>\n",
       "      <td>...</td>\n",
       "      <td>...</td>\n",
       "      <td>...</td>\n",
       "      <td>...</td>\n",
       "      <td>...</td>\n",
       "      <td>...</td>\n",
       "      <td>...</td>\n",
       "      <td>...</td>\n",
       "      <td>...</td>\n",
       "      <td>...</td>\n",
       "      <td>...</td>\n",
       "      <td>...</td>\n",
       "      <td>...</td>\n",
       "      <td>...</td>\n",
       "      <td>...</td>\n",
       "      <td>...</td>\n",
       "    </tr>\n",
       "    <tr>\n",
       "      <th>10078</th>\n",
       "      <td>10078</td>\n",
       "      <td>2020-12-31</td>\n",
       "      <td>8:00 AM</td>\n",
       "      <td>Telangana</td>\n",
       "      <td>-</td>\n",
       "      <td>-</td>\n",
       "      <td>278839</td>\n",
       "      <td>1541</td>\n",
       "      <td>286354</td>\n",
       "      <td>Telangana</td>\n",
       "      <td>6882694.0</td>\n",
       "      <td>NaN</td>\n",
       "      <td>NaN</td>\n",
       "      <td>31</td>\n",
       "      <td>12</td>\n",
       "      <td>2020</td>\n",
       "    </tr>\n",
       "    <tr>\n",
       "      <th>10079</th>\n",
       "      <td>10079</td>\n",
       "      <td>2020-12-31</td>\n",
       "      <td>8:00 AM</td>\n",
       "      <td>Tripura</td>\n",
       "      <td>-</td>\n",
       "      <td>-</td>\n",
       "      <td>32751</td>\n",
       "      <td>385</td>\n",
       "      <td>33264</td>\n",
       "      <td>Tripura</td>\n",
       "      <td>578723.0</td>\n",
       "      <td>545462</td>\n",
       "      <td>33261.0</td>\n",
       "      <td>31</td>\n",
       "      <td>12</td>\n",
       "      <td>2020</td>\n",
       "    </tr>\n",
       "    <tr>\n",
       "      <th>10080</th>\n",
       "      <td>10080</td>\n",
       "      <td>2020-12-31</td>\n",
       "      <td>8:00 AM</td>\n",
       "      <td>Uttarakhand</td>\n",
       "      <td>-</td>\n",
       "      <td>-</td>\n",
       "      <td>84149</td>\n",
       "      <td>1504</td>\n",
       "      <td>90616</td>\n",
       "      <td>Uttarakhand</td>\n",
       "      <td>1777371.0</td>\n",
       "      <td>1686451</td>\n",
       "      <td>NaN</td>\n",
       "      <td>31</td>\n",
       "      <td>12</td>\n",
       "      <td>2020</td>\n",
       "    </tr>\n",
       "    <tr>\n",
       "      <th>10081</th>\n",
       "      <td>10081</td>\n",
       "      <td>2020-12-31</td>\n",
       "      <td>8:00 AM</td>\n",
       "      <td>Uttar Pradesh</td>\n",
       "      <td>-</td>\n",
       "      <td>-</td>\n",
       "      <td>562459</td>\n",
       "      <td>8352</td>\n",
       "      <td>584966</td>\n",
       "      <td>Uttar Pradesh</td>\n",
       "      <td>23943169.0</td>\n",
       "      <td>NaN</td>\n",
       "      <td>NaN</td>\n",
       "      <td>31</td>\n",
       "      <td>12</td>\n",
       "      <td>2020</td>\n",
       "    </tr>\n",
       "    <tr>\n",
       "      <th>10082</th>\n",
       "      <td>10082</td>\n",
       "      <td>2020-12-31</td>\n",
       "      <td>8:00 AM</td>\n",
       "      <td>West Bengal</td>\n",
       "      <td>-</td>\n",
       "      <td>-</td>\n",
       "      <td>528829</td>\n",
       "      <td>9683</td>\n",
       "      <td>550893</td>\n",
       "      <td>West Bengal</td>\n",
       "      <td>7110430.0</td>\n",
       "      <td>NaN</td>\n",
       "      <td>NaN</td>\n",
       "      <td>31</td>\n",
       "      <td>12</td>\n",
       "      <td>2020</td>\n",
       "    </tr>\n",
       "  </tbody>\n",
       "</table>\n",
       "<p>10083 rows × 16 columns</p>\n",
       "</div>"
      ],
      "text/plain": [
       "         Sno       Date     Time State/UnionTerritory ConfirmedIndianNational  \\\n",
       "0          1 2020-01-30  6:00 PM               Kerala                       1   \n",
       "1          2 2020-01-31  6:00 PM               Kerala                       1   \n",
       "2          3 2020-02-01  6:00 PM               Kerala                       2   \n",
       "3          4 2020-02-02  6:00 PM               Kerala                       3   \n",
       "4          5 2020-02-03  6:00 PM               Kerala                       3   \n",
       "...      ...        ...      ...                  ...                     ...   \n",
       "10078  10078 2020-12-31  8:00 AM            Telangana                       -   \n",
       "10079  10079 2020-12-31  8:00 AM              Tripura                       -   \n",
       "10080  10080 2020-12-31  8:00 AM          Uttarakhand                       -   \n",
       "10081  10081 2020-12-31  8:00 AM        Uttar Pradesh                       -   \n",
       "10082  10082 2020-12-31  8:00 AM          West Bengal                       -   \n",
       "\n",
       "      ConfirmedForeignNational   Cured  Deaths  Confirmed          State  \\\n",
       "0                            0       0       0          1            NaN   \n",
       "1                            0       0       0          1            NaN   \n",
       "2                            0       0       0          2            NaN   \n",
       "3                            0       0       0          3            NaN   \n",
       "4                            0       0       0          3            NaN   \n",
       "...                        ...     ...     ...        ...            ...   \n",
       "10078                        -  278839    1541     286354      Telangana   \n",
       "10079                        -   32751     385      33264        Tripura   \n",
       "10080                        -   84149    1504      90616    Uttarakhand   \n",
       "10081                        -  562459    8352     584966  Uttar Pradesh   \n",
       "10082                        -  528829    9683     550893    West Bengal   \n",
       "\n",
       "       TotalSamples Negative  Positive  Day  Month  Year  \n",
       "0               NaN      NaN       NaN   30      1  2020  \n",
       "1               NaN      NaN       NaN   31      1  2020  \n",
       "2               NaN      NaN       NaN    1      2  2020  \n",
       "3               NaN      NaN       NaN    2      2  2020  \n",
       "4               NaN      NaN       NaN    3      2  2020  \n",
       "...             ...      ...       ...  ...    ...   ...  \n",
       "10078     6882694.0      NaN       NaN   31     12  2020  \n",
       "10079      578723.0   545462   33261.0   31     12  2020  \n",
       "10080     1777371.0  1686451       NaN   31     12  2020  \n",
       "10081    23943169.0      NaN       NaN   31     12  2020  \n",
       "10082     7110430.0      NaN       NaN   31     12  2020  \n",
       "\n",
       "[10083 rows x 16 columns]"
      ]
     },
     "execution_count": 68,
     "metadata": {},
     "output_type": "execute_result"
    }
   ],
   "source": [
    "df3"
   ]
  },
  {
   "cell_type": "code",
   "execution_count": 69,
   "id": "c4fdb9a8",
   "metadata": {
    "execution": {
     "iopub.execute_input": "2023-03-31T07:42:45.639512Z",
     "iopub.status.busy": "2023-03-31T07:42:45.639100Z",
     "iopub.status.idle": "2023-03-31T07:42:45.669372Z",
     "shell.execute_reply": "2023-03-31T07:42:45.667986Z"
    },
    "papermill": {
     "duration": 0.048157,
     "end_time": "2023-03-31T07:42:45.672092",
     "exception": false,
     "start_time": "2023-03-31T07:42:45.623935",
     "status": "completed"
    },
    "tags": []
   },
   "outputs": [
    {
     "data": {
      "text/html": [
       "<div>\n",
       "<style scoped>\n",
       "    .dataframe tbody tr th:only-of-type {\n",
       "        vertical-align: middle;\n",
       "    }\n",
       "\n",
       "    .dataframe tbody tr th {\n",
       "        vertical-align: top;\n",
       "    }\n",
       "\n",
       "    .dataframe thead th {\n",
       "        text-align: right;\n",
       "    }\n",
       "</style>\n",
       "<table border=\"1\" class=\"dataframe\">\n",
       "  <thead>\n",
       "    <tr style=\"text-align: right;\">\n",
       "      <th></th>\n",
       "      <th>Sno</th>\n",
       "      <th>Date</th>\n",
       "      <th>Time</th>\n",
       "      <th>State/UnionTerritory</th>\n",
       "      <th>ConfirmedIndianNational</th>\n",
       "      <th>ConfirmedForeignNational</th>\n",
       "      <th>Cured</th>\n",
       "      <th>Deaths</th>\n",
       "      <th>Confirmed</th>\n",
       "      <th>State</th>\n",
       "      <th>TotalSamples</th>\n",
       "      <th>Negative</th>\n",
       "      <th>Positive</th>\n",
       "      <th>Day</th>\n",
       "      <th>Month</th>\n",
       "      <th>Year</th>\n",
       "    </tr>\n",
       "  </thead>\n",
       "  <tbody>\n",
       "    <tr>\n",
       "      <th>10083</th>\n",
       "      <td>10083</td>\n",
       "      <td>2021-01-01</td>\n",
       "      <td>8:00 AM</td>\n",
       "      <td>Andhra Pradesh</td>\n",
       "      <td>-</td>\n",
       "      <td>-</td>\n",
       "      <td>871916</td>\n",
       "      <td>7108</td>\n",
       "      <td>882286</td>\n",
       "      <td>Andhra Pradesh</td>\n",
       "      <td>11884085.0</td>\n",
       "      <td>11001473</td>\n",
       "      <td>NaN</td>\n",
       "      <td>1</td>\n",
       "      <td>1</td>\n",
       "      <td>2021</td>\n",
       "    </tr>\n",
       "    <tr>\n",
       "      <th>10084</th>\n",
       "      <td>10084</td>\n",
       "      <td>2021-01-01</td>\n",
       "      <td>8:00 AM</td>\n",
       "      <td>Andaman and Nicobar Islands</td>\n",
       "      <td>-</td>\n",
       "      <td>-</td>\n",
       "      <td>4826</td>\n",
       "      <td>62</td>\n",
       "      <td>4945</td>\n",
       "      <td>Andaman and Nicobar Islands</td>\n",
       "      <td>182631.0</td>\n",
       "      <td>NaN</td>\n",
       "      <td>4946.0</td>\n",
       "      <td>1</td>\n",
       "      <td>1</td>\n",
       "      <td>2021</td>\n",
       "    </tr>\n",
       "    <tr>\n",
       "      <th>10085</th>\n",
       "      <td>10085</td>\n",
       "      <td>2021-01-01</td>\n",
       "      <td>8:00 AM</td>\n",
       "      <td>Arunachal Pradesh</td>\n",
       "      <td>-</td>\n",
       "      <td>-</td>\n",
       "      <td>16564</td>\n",
       "      <td>56</td>\n",
       "      <td>16719</td>\n",
       "      <td>Arunachal Pradesh</td>\n",
       "      <td>378364.0</td>\n",
       "      <td>NaN</td>\n",
       "      <td>NaN</td>\n",
       "      <td>1</td>\n",
       "      <td>1</td>\n",
       "      <td>2021</td>\n",
       "    </tr>\n",
       "    <tr>\n",
       "      <th>10086</th>\n",
       "      <td>10086</td>\n",
       "      <td>2021-01-01</td>\n",
       "      <td>8:00 AM</td>\n",
       "      <td>Assam</td>\n",
       "      <td>-</td>\n",
       "      <td>-</td>\n",
       "      <td>211910</td>\n",
       "      <td>1045</td>\n",
       "      <td>216211</td>\n",
       "      <td>Assam</td>\n",
       "      <td>6014286.0</td>\n",
       "      <td>NaN</td>\n",
       "      <td>NaN</td>\n",
       "      <td>1</td>\n",
       "      <td>1</td>\n",
       "      <td>2021</td>\n",
       "    </tr>\n",
       "    <tr>\n",
       "      <th>10087</th>\n",
       "      <td>10087</td>\n",
       "      <td>2021-01-01</td>\n",
       "      <td>8:00 AM</td>\n",
       "      <td>Bihar</td>\n",
       "      <td>-</td>\n",
       "      <td>-</td>\n",
       "      <td>245476</td>\n",
       "      <td>1397</td>\n",
       "      <td>251743</td>\n",
       "      <td>Bihar</td>\n",
       "      <td>18442165.0</td>\n",
       "      <td>NaN</td>\n",
       "      <td>NaN</td>\n",
       "      <td>1</td>\n",
       "      <td>1</td>\n",
       "      <td>2021</td>\n",
       "    </tr>\n",
       "    <tr>\n",
       "      <th>...</th>\n",
       "      <td>...</td>\n",
       "      <td>...</td>\n",
       "      <td>...</td>\n",
       "      <td>...</td>\n",
       "      <td>...</td>\n",
       "      <td>...</td>\n",
       "      <td>...</td>\n",
       "      <td>...</td>\n",
       "      <td>...</td>\n",
       "      <td>...</td>\n",
       "      <td>...</td>\n",
       "      <td>...</td>\n",
       "      <td>...</td>\n",
       "      <td>...</td>\n",
       "      <td>...</td>\n",
       "      <td>...</td>\n",
       "    </tr>\n",
       "    <tr>\n",
       "      <th>18106</th>\n",
       "      <td>18106</td>\n",
       "      <td>2021-08-11</td>\n",
       "      <td>8:00 AM</td>\n",
       "      <td>Telangana</td>\n",
       "      <td>-</td>\n",
       "      <td>-</td>\n",
       "      <td>638410</td>\n",
       "      <td>3831</td>\n",
       "      <td>650353</td>\n",
       "      <td>NaN</td>\n",
       "      <td>NaN</td>\n",
       "      <td>NaN</td>\n",
       "      <td>NaN</td>\n",
       "      <td>11</td>\n",
       "      <td>8</td>\n",
       "      <td>2021</td>\n",
       "    </tr>\n",
       "    <tr>\n",
       "      <th>18107</th>\n",
       "      <td>18107</td>\n",
       "      <td>2021-08-11</td>\n",
       "      <td>8:00 AM</td>\n",
       "      <td>Tripura</td>\n",
       "      <td>-</td>\n",
       "      <td>-</td>\n",
       "      <td>77811</td>\n",
       "      <td>773</td>\n",
       "      <td>80660</td>\n",
       "      <td>NaN</td>\n",
       "      <td>NaN</td>\n",
       "      <td>NaN</td>\n",
       "      <td>NaN</td>\n",
       "      <td>11</td>\n",
       "      <td>8</td>\n",
       "      <td>2021</td>\n",
       "    </tr>\n",
       "    <tr>\n",
       "      <th>18108</th>\n",
       "      <td>18108</td>\n",
       "      <td>2021-08-11</td>\n",
       "      <td>8:00 AM</td>\n",
       "      <td>Uttarakhand</td>\n",
       "      <td>-</td>\n",
       "      <td>-</td>\n",
       "      <td>334650</td>\n",
       "      <td>7368</td>\n",
       "      <td>342462</td>\n",
       "      <td>NaN</td>\n",
       "      <td>NaN</td>\n",
       "      <td>NaN</td>\n",
       "      <td>NaN</td>\n",
       "      <td>11</td>\n",
       "      <td>8</td>\n",
       "      <td>2021</td>\n",
       "    </tr>\n",
       "    <tr>\n",
       "      <th>18109</th>\n",
       "      <td>18109</td>\n",
       "      <td>2021-08-11</td>\n",
       "      <td>8:00 AM</td>\n",
       "      <td>Uttar Pradesh</td>\n",
       "      <td>-</td>\n",
       "      <td>-</td>\n",
       "      <td>1685492</td>\n",
       "      <td>22775</td>\n",
       "      <td>1708812</td>\n",
       "      <td>NaN</td>\n",
       "      <td>NaN</td>\n",
       "      <td>NaN</td>\n",
       "      <td>NaN</td>\n",
       "      <td>11</td>\n",
       "      <td>8</td>\n",
       "      <td>2021</td>\n",
       "    </tr>\n",
       "    <tr>\n",
       "      <th>18110</th>\n",
       "      <td>18110</td>\n",
       "      <td>2021-08-11</td>\n",
       "      <td>8:00 AM</td>\n",
       "      <td>West Bengal</td>\n",
       "      <td>-</td>\n",
       "      <td>-</td>\n",
       "      <td>1506532</td>\n",
       "      <td>18252</td>\n",
       "      <td>1534999</td>\n",
       "      <td>NaN</td>\n",
       "      <td>NaN</td>\n",
       "      <td>NaN</td>\n",
       "      <td>NaN</td>\n",
       "      <td>11</td>\n",
       "      <td>8</td>\n",
       "      <td>2021</td>\n",
       "    </tr>\n",
       "  </tbody>\n",
       "</table>\n",
       "<p>8028 rows × 16 columns</p>\n",
       "</div>"
      ],
      "text/plain": [
       "         Sno       Date     Time         State/UnionTerritory  \\\n",
       "10083  10083 2021-01-01  8:00 AM               Andhra Pradesh   \n",
       "10084  10084 2021-01-01  8:00 AM  Andaman and Nicobar Islands   \n",
       "10085  10085 2021-01-01  8:00 AM            Arunachal Pradesh   \n",
       "10086  10086 2021-01-01  8:00 AM                        Assam   \n",
       "10087  10087 2021-01-01  8:00 AM                        Bihar   \n",
       "...      ...        ...      ...                          ...   \n",
       "18106  18106 2021-08-11  8:00 AM                    Telangana   \n",
       "18107  18107 2021-08-11  8:00 AM                      Tripura   \n",
       "18108  18108 2021-08-11  8:00 AM                  Uttarakhand   \n",
       "18109  18109 2021-08-11  8:00 AM                Uttar Pradesh   \n",
       "18110  18110 2021-08-11  8:00 AM                  West Bengal   \n",
       "\n",
       "      ConfirmedIndianNational ConfirmedForeignNational    Cured  Deaths  \\\n",
       "10083                       -                        -   871916    7108   \n",
       "10084                       -                        -     4826      62   \n",
       "10085                       -                        -    16564      56   \n",
       "10086                       -                        -   211910    1045   \n",
       "10087                       -                        -   245476    1397   \n",
       "...                       ...                      ...      ...     ...   \n",
       "18106                       -                        -   638410    3831   \n",
       "18107                       -                        -    77811     773   \n",
       "18108                       -                        -   334650    7368   \n",
       "18109                       -                        -  1685492   22775   \n",
       "18110                       -                        -  1506532   18252   \n",
       "\n",
       "       Confirmed                        State  TotalSamples  Negative  \\\n",
       "10083     882286               Andhra Pradesh    11884085.0  11001473   \n",
       "10084       4945  Andaman and Nicobar Islands      182631.0       NaN   \n",
       "10085      16719            Arunachal Pradesh      378364.0       NaN   \n",
       "10086     216211                        Assam     6014286.0       NaN   \n",
       "10087     251743                        Bihar    18442165.0       NaN   \n",
       "...          ...                          ...           ...       ...   \n",
       "18106     650353                          NaN           NaN       NaN   \n",
       "18107      80660                          NaN           NaN       NaN   \n",
       "18108     342462                          NaN           NaN       NaN   \n",
       "18109    1708812                          NaN           NaN       NaN   \n",
       "18110    1534999                          NaN           NaN       NaN   \n",
       "\n",
       "       Positive  Day  Month  Year  \n",
       "10083       NaN    1      1  2021  \n",
       "10084    4946.0    1      1  2021  \n",
       "10085       NaN    1      1  2021  \n",
       "10086       NaN    1      1  2021  \n",
       "10087       NaN    1      1  2021  \n",
       "...         ...  ...    ...   ...  \n",
       "18106       NaN   11      8  2021  \n",
       "18107       NaN   11      8  2021  \n",
       "18108       NaN   11      8  2021  \n",
       "18109       NaN   11      8  2021  \n",
       "18110       NaN   11      8  2021  \n",
       "\n",
       "[8028 rows x 16 columns]"
      ]
     },
     "execution_count": 69,
     "metadata": {},
     "output_type": "execute_result"
    }
   ],
   "source": [
    "df4=df[df['Year']==2021] # slicing dataframe on basis of Year 2021\n",
    "df4"
   ]
  },
  {
   "cell_type": "code",
   "execution_count": 70,
   "id": "cd8e252d",
   "metadata": {
    "execution": {
     "iopub.execute_input": "2023-03-31T07:42:45.701830Z",
     "iopub.status.busy": "2023-03-31T07:42:45.701352Z",
     "iopub.status.idle": "2023-03-31T07:42:45.714043Z",
     "shell.execute_reply": "2023-03-31T07:42:45.712482Z"
    },
    "papermill": {
     "duration": 0.03066,
     "end_time": "2023-03-31T07:42:45.716807",
     "exception": false,
     "start_time": "2023-03-31T07:42:45.686147",
     "status": "completed"
    },
    "tags": []
   },
   "outputs": [
    {
     "name": "stderr",
     "output_type": "stream",
     "text": [
      "C:\\Users\\Admin\\AppData\\Local\\Temp/ipykernel_17028/930084009.py:1: FutureWarning: Indexing with multiple keys (implicitly converted to a tuple of keys) will be deprecated, use a list instead.\n",
      "  df5=df3.groupby(['State/UnionTerritory'])['Confirmed','Deaths','Cured'].max() # finding max value of columns\n"
     ]
    }
   ],
   "source": [
    "df5=df3.groupby(['State/UnionTerritory'])['Confirmed','Deaths','Cured'].max() # finding max value of columns "
   ]
  },
  {
   "cell_type": "code",
   "execution_count": 71,
   "id": "e09d1d17",
   "metadata": {
    "execution": {
     "iopub.execute_input": "2023-03-31T07:42:45.746644Z",
     "iopub.status.busy": "2023-03-31T07:42:45.745393Z",
     "iopub.status.idle": "2023-03-31T07:42:45.751910Z",
     "shell.execute_reply": "2023-03-31T07:42:45.750806Z"
    },
    "papermill": {
     "duration": 0.023867,
     "end_time": "2023-03-31T07:42:45.754319",
     "exception": false,
     "start_time": "2023-03-31T07:42:45.730452",
     "status": "completed"
    },
    "tags": []
   },
   "outputs": [],
   "source": [
    "df5.reset_index(inplace=True)"
   ]
  },
  {
   "cell_type": "code",
   "execution_count": 72,
   "id": "b30a6e56",
   "metadata": {
    "execution": {
     "iopub.execute_input": "2023-03-31T07:42:45.782868Z",
     "iopub.status.busy": "2023-03-31T07:42:45.782462Z",
     "iopub.status.idle": "2023-03-31T07:42:45.790211Z",
     "shell.execute_reply": "2023-03-31T07:42:45.788702Z"
    },
    "papermill": {
     "duration": 0.025261,
     "end_time": "2023-03-31T07:42:45.792755",
     "exception": false,
     "start_time": "2023-03-31T07:42:45.767494",
     "status": "completed"
    },
    "tags": []
   },
   "outputs": [
    {
     "data": {
      "text/plain": [
       "Index(['State/UnionTerritory', 'Confirmed', 'Deaths', 'Cured'], dtype='object')"
      ]
     },
     "execution_count": 72,
     "metadata": {},
     "output_type": "execute_result"
    }
   ],
   "source": [
    "df5.columns #gives list of columns in dataframe"
   ]
  },
  {
   "cell_type": "code",
   "execution_count": 73,
   "id": "33a6477b",
   "metadata": {
    "execution": {
     "iopub.execute_input": "2023-03-31T07:42:45.822723Z",
     "iopub.status.busy": "2023-03-31T07:42:45.821513Z",
     "iopub.status.idle": "2023-03-31T07:42:45.838213Z",
     "shell.execute_reply": "2023-03-31T07:42:45.836924Z"
    },
    "papermill": {
     "duration": 0.034129,
     "end_time": "2023-03-31T07:42:45.840526",
     "exception": false,
     "start_time": "2023-03-31T07:42:45.806397",
     "status": "completed"
    },
    "tags": []
   },
   "outputs": [
    {
     "data": {
      "text/html": [
       "<div>\n",
       "<style scoped>\n",
       "    .dataframe tbody tr th:only-of-type {\n",
       "        vertical-align: middle;\n",
       "    }\n",
       "\n",
       "    .dataframe tbody tr th {\n",
       "        vertical-align: top;\n",
       "    }\n",
       "\n",
       "    .dataframe thead th {\n",
       "        text-align: right;\n",
       "    }\n",
       "</style>\n",
       "<table border=\"1\" class=\"dataframe\">\n",
       "  <thead>\n",
       "    <tr style=\"text-align: right;\">\n",
       "      <th></th>\n",
       "      <th>State/UnionTerritory</th>\n",
       "      <th>Confirmed</th>\n",
       "      <th>Deaths</th>\n",
       "      <th>Cured</th>\n",
       "    </tr>\n",
       "  </thead>\n",
       "  <tbody>\n",
       "    <tr>\n",
       "      <th>0</th>\n",
       "      <td>Andaman and Nicobar Islands</td>\n",
       "      <td>4941</td>\n",
       "      <td>62</td>\n",
       "      <td>4820</td>\n",
       "    </tr>\n",
       "    <tr>\n",
       "      <th>1</th>\n",
       "      <td>Andhra Pradesh</td>\n",
       "      <td>881948</td>\n",
       "      <td>7104</td>\n",
       "      <td>871588</td>\n",
       "    </tr>\n",
       "    <tr>\n",
       "      <th>2</th>\n",
       "      <td>Arunachal Pradesh</td>\n",
       "      <td>16711</td>\n",
       "      <td>56</td>\n",
       "      <td>16549</td>\n",
       "    </tr>\n",
       "    <tr>\n",
       "      <th>3</th>\n",
       "      <td>Assam</td>\n",
       "      <td>216139</td>\n",
       "      <td>1043</td>\n",
       "      <td>211838</td>\n",
       "    </tr>\n",
       "    <tr>\n",
       "      <th>4</th>\n",
       "      <td>Bihar</td>\n",
       "      <td>251348</td>\n",
       "      <td>1393</td>\n",
       "      <td>245156</td>\n",
       "    </tr>\n",
       "    <tr>\n",
       "      <th>6</th>\n",
       "      <td>Chandigarh</td>\n",
       "      <td>19682</td>\n",
       "      <td>316</td>\n",
       "      <td>18967</td>\n",
       "    </tr>\n",
       "    <tr>\n",
       "      <th>7</th>\n",
       "      <td>Chhattisgarh</td>\n",
       "      <td>278540</td>\n",
       "      <td>3350</td>\n",
       "      <td>263251</td>\n",
       "    </tr>\n",
       "    <tr>\n",
       "      <th>8</th>\n",
       "      <td>Daman &amp; Diu</td>\n",
       "      <td>3375</td>\n",
       "      <td>2</td>\n",
       "      <td>3364</td>\n",
       "    </tr>\n",
       "    <tr>\n",
       "      <th>9</th>\n",
       "      <td>Delhi</td>\n",
       "      <td>624795</td>\n",
       "      <td>10523</td>\n",
       "      <td>608434</td>\n",
       "    </tr>\n",
       "    <tr>\n",
       "      <th>10</th>\n",
       "      <td>Goa</td>\n",
       "      <td>50981</td>\n",
       "      <td>737</td>\n",
       "      <td>49313</td>\n",
       "    </tr>\n",
       "    <tr>\n",
       "      <th>11</th>\n",
       "      <td>Gujarat</td>\n",
       "      <td>244258</td>\n",
       "      <td>4302</td>\n",
       "      <td>229977</td>\n",
       "    </tr>\n",
       "    <tr>\n",
       "      <th>12</th>\n",
       "      <td>Haryana</td>\n",
       "      <td>262054</td>\n",
       "      <td>2899</td>\n",
       "      <td>255356</td>\n",
       "    </tr>\n",
       "    <tr>\n",
       "      <th>13</th>\n",
       "      <td>Himanchal Pradesh</td>\n",
       "      <td>55114</td>\n",
       "      <td>931</td>\n",
       "      <td>51387</td>\n",
       "    </tr>\n",
       "    <tr>\n",
       "      <th>14</th>\n",
       "      <td>Jammu and Kashmir</td>\n",
       "      <td>120744</td>\n",
       "      <td>1880</td>\n",
       "      <td>115830</td>\n",
       "    </tr>\n",
       "    <tr>\n",
       "      <th>15</th>\n",
       "      <td>Jharkhand</td>\n",
       "      <td>114873</td>\n",
       "      <td>1027</td>\n",
       "      <td>112206</td>\n",
       "    </tr>\n",
       "    <tr>\n",
       "      <th>16</th>\n",
       "      <td>Karanataka</td>\n",
       "      <td>918544</td>\n",
       "      <td>12081</td>\n",
       "      <td>894834</td>\n",
       "    </tr>\n",
       "    <tr>\n",
       "      <th>17</th>\n",
       "      <td>Kerala</td>\n",
       "      <td>755718</td>\n",
       "      <td>3042</td>\n",
       "      <td>687104</td>\n",
       "    </tr>\n",
       "    <tr>\n",
       "      <th>18</th>\n",
       "      <td>Ladakh</td>\n",
       "      <td>9447</td>\n",
       "      <td>127</td>\n",
       "      <td>9132</td>\n",
       "    </tr>\n",
       "    <tr>\n",
       "      <th>19</th>\n",
       "      <td>Lakshadweep</td>\n",
       "      <td>0</td>\n",
       "      <td>0</td>\n",
       "      <td>0</td>\n",
       "    </tr>\n",
       "    <tr>\n",
       "      <th>20</th>\n",
       "      <td>Madhya Pradesh</td>\n",
       "      <td>240947</td>\n",
       "      <td>3595</td>\n",
       "      <td>227965</td>\n",
       "    </tr>\n",
       "    <tr>\n",
       "      <th>21</th>\n",
       "      <td>Maharashtra</td>\n",
       "      <td>1928603</td>\n",
       "      <td>49463</td>\n",
       "      <td>1824934</td>\n",
       "    </tr>\n",
       "    <tr>\n",
       "      <th>22</th>\n",
       "      <td>Manipur</td>\n",
       "      <td>28137</td>\n",
       "      <td>354</td>\n",
       "      <td>26601</td>\n",
       "    </tr>\n",
       "    <tr>\n",
       "      <th>23</th>\n",
       "      <td>Meghalaya</td>\n",
       "      <td>13408</td>\n",
       "      <td>139</td>\n",
       "      <td>13085</td>\n",
       "    </tr>\n",
       "    <tr>\n",
       "      <th>24</th>\n",
       "      <td>Mizoram</td>\n",
       "      <td>4204</td>\n",
       "      <td>8</td>\n",
       "      <td>4091</td>\n",
       "    </tr>\n",
       "    <tr>\n",
       "      <th>25</th>\n",
       "      <td>Nagaland</td>\n",
       "      <td>11921</td>\n",
       "      <td>79</td>\n",
       "      <td>11624</td>\n",
       "    </tr>\n",
       "    <tr>\n",
       "      <th>26</th>\n",
       "      <td>Odisha</td>\n",
       "      <td>329306</td>\n",
       "      <td>1871</td>\n",
       "      <td>325103</td>\n",
       "    </tr>\n",
       "    <tr>\n",
       "      <th>27</th>\n",
       "      <td>Puducherry</td>\n",
       "      <td>38096</td>\n",
       "      <td>633</td>\n",
       "      <td>37100</td>\n",
       "    </tr>\n",
       "    <tr>\n",
       "      <th>28</th>\n",
       "      <td>Punjab</td>\n",
       "      <td>166239</td>\n",
       "      <td>5331</td>\n",
       "      <td>157043</td>\n",
       "    </tr>\n",
       "    <tr>\n",
       "      <th>29</th>\n",
       "      <td>Rajasthan</td>\n",
       "      <td>307554</td>\n",
       "      <td>2689</td>\n",
       "      <td>295030</td>\n",
       "    </tr>\n",
       "    <tr>\n",
       "      <th>30</th>\n",
       "      <td>Sikkim</td>\n",
       "      <td>5877</td>\n",
       "      <td>127</td>\n",
       "      <td>5218</td>\n",
       "    </tr>\n",
       "    <tr>\n",
       "      <th>31</th>\n",
       "      <td>Tamil Nadu</td>\n",
       "      <td>817077</td>\n",
       "      <td>12109</td>\n",
       "      <td>796353</td>\n",
       "    </tr>\n",
       "    <tr>\n",
       "      <th>32</th>\n",
       "      <td>Telangana</td>\n",
       "      <td>286354</td>\n",
       "      <td>1541</td>\n",
       "      <td>278839</td>\n",
       "    </tr>\n",
       "    <tr>\n",
       "      <th>33</th>\n",
       "      <td>Tripura</td>\n",
       "      <td>33264</td>\n",
       "      <td>385</td>\n",
       "      <td>32751</td>\n",
       "    </tr>\n",
       "    <tr>\n",
       "      <th>35</th>\n",
       "      <td>Uttar Pradesh</td>\n",
       "      <td>584966</td>\n",
       "      <td>8352</td>\n",
       "      <td>562459</td>\n",
       "    </tr>\n",
       "    <tr>\n",
       "      <th>36</th>\n",
       "      <td>Uttarakhand</td>\n",
       "      <td>90616</td>\n",
       "      <td>1504</td>\n",
       "      <td>84149</td>\n",
       "    </tr>\n",
       "    <tr>\n",
       "      <th>37</th>\n",
       "      <td>West Bengal</td>\n",
       "      <td>550893</td>\n",
       "      <td>9683</td>\n",
       "      <td>528829</td>\n",
       "    </tr>\n",
       "  </tbody>\n",
       "</table>\n",
       "</div>"
      ],
      "text/plain": [
       "           State/UnionTerritory  Confirmed  Deaths    Cured\n",
       "0   Andaman and Nicobar Islands       4941      62     4820\n",
       "1                Andhra Pradesh     881948    7104   871588\n",
       "2             Arunachal Pradesh      16711      56    16549\n",
       "3                         Assam     216139    1043   211838\n",
       "4                         Bihar     251348    1393   245156\n",
       "6                    Chandigarh      19682     316    18967\n",
       "7                  Chhattisgarh     278540    3350   263251\n",
       "8                   Daman & Diu       3375       2     3364\n",
       "9                         Delhi     624795   10523   608434\n",
       "10                          Goa      50981     737    49313\n",
       "11                      Gujarat     244258    4302   229977\n",
       "12                      Haryana     262054    2899   255356\n",
       "13            Himanchal Pradesh      55114     931    51387\n",
       "14            Jammu and Kashmir     120744    1880   115830\n",
       "15                    Jharkhand     114873    1027   112206\n",
       "16                   Karanataka     918544   12081   894834\n",
       "17                       Kerala     755718    3042   687104\n",
       "18                       Ladakh       9447     127     9132\n",
       "19                  Lakshadweep          0       0        0\n",
       "20               Madhya Pradesh     240947    3595   227965\n",
       "21                  Maharashtra    1928603   49463  1824934\n",
       "22                      Manipur      28137     354    26601\n",
       "23                    Meghalaya      13408     139    13085\n",
       "24                      Mizoram       4204       8     4091\n",
       "25                     Nagaland      11921      79    11624\n",
       "26                       Odisha     329306    1871   325103\n",
       "27                   Puducherry      38096     633    37100\n",
       "28                       Punjab     166239    5331   157043\n",
       "29                    Rajasthan     307554    2689   295030\n",
       "30                       Sikkim       5877     127     5218\n",
       "31                   Tamil Nadu     817077   12109   796353\n",
       "32                    Telangana     286354    1541   278839\n",
       "33                      Tripura      33264     385    32751\n",
       "35                Uttar Pradesh     584966    8352   562459\n",
       "36                  Uttarakhand      90616    1504    84149\n",
       "37                  West Bengal     550893    9683   528829"
      ]
     },
     "execution_count": 73,
     "metadata": {},
     "output_type": "execute_result"
    }
   ],
   "source": [
    "df5=df5.drop(labels=[5,34],axis=0) \n",
    "df5"
   ]
  },
  {
   "cell_type": "markdown",
   "id": "2a8d7ddd",
   "metadata": {
    "papermill": {
     "duration": 0.013334,
     "end_time": "2023-03-31T07:42:45.867692",
     "exception": false,
     "start_time": "2023-03-31T07:42:45.854358",
     "status": "completed"
    },
    "tags": []
   },
   "source": [
    "**State wise confirmed cases in India**"
   ]
  },
  {
   "cell_type": "code",
   "execution_count": 74,
   "id": "e1ab5d38",
   "metadata": {
    "execution": {
     "iopub.execute_input": "2023-03-31T07:42:45.897454Z",
     "iopub.status.busy": "2023-03-31T07:42:45.896397Z",
     "iopub.status.idle": "2023-03-31T07:42:46.391690Z",
     "shell.execute_reply": "2023-03-31T07:42:46.390798Z"
    },
    "papermill": {
     "duration": 0.512904,
     "end_time": "2023-03-31T07:42:46.394172",
     "exception": false,
     "start_time": "2023-03-31T07:42:45.881268",
     "status": "completed"
    },
    "tags": []
   },
   "outputs": [
    {
     "data": {
      "text/plain": [
       "Text(0.5, 1.0, 'State/union territory wise confirmed cases in 2020')"
      ]
     },
     "execution_count": 74,
     "metadata": {},
     "output_type": "execute_result"
    },
    {
     "data": {
      "image/png": "[encoded data removed]",
      "text/plain": [
       "<Figure size 432x288 with 1 Axes>"
      ]
     },
     "metadata": {
      "needs_background": "light"
     },
     "output_type": "display_data"
    }
   ],
   "source": [
    "plt.bar(df5['State/UnionTerritory'],df5['Confirmed'], color = \"Orange\")\n",
    "plt.xticks(rotation = 90)\n",
    "plt.title(\"State/union territory wise confirmed cases in 2020\")"
   ]
  },
  {
   "cell_type": "markdown",
   "id": "7fc603ca",
   "metadata": {
    "papermill": {
     "duration": 0.015506,
     "end_time": "2023-03-31T07:42:46.426033",
     "exception": false,
     "start_time": "2023-03-31T07:42:46.410527",
     "status": "completed"
    },
    "tags": []
   },
   "source": [
    "*conclusion: Maximum amount of confirmed cases in india were in Maharashtra.*"
   ]
  },
  {
   "cell_type": "code",
   "execution_count": 75,
   "id": "b2dc6335",
   "metadata": {
    "execution": {
     "iopub.execute_input": "2023-03-31T07:42:46.458825Z",
     "iopub.status.busy": "2023-03-31T07:42:46.458053Z",
     "iopub.status.idle": "2023-03-31T07:42:47.156400Z",
     "shell.execute_reply": "2023-03-31T07:42:47.155167Z"
    },
    "papermill": {
     "duration": 0.717866,
     "end_time": "2023-03-31T07:42:47.159213",
     "exception": false,
     "start_time": "2023-03-31T07:42:46.441347",
     "status": "completed"
    },
    "tags": []
   },
   "outputs": [
    {
     "data": {
      "text/plain": [
       "([0,\n",
       "  1,\n",
       "  2,\n",
       "  3,\n",
       "  4,\n",
       "  5,\n",
       "  6,\n",
       "  7,\n",
       "  8,\n",
       "  9,\n",
       "  10,\n",
       "  11,\n",
       "  12,\n",
       "  13,\n",
       "  14,\n",
       "  15,\n",
       "  16,\n",
       "  17,\n",
       "  18,\n",
       "  19,\n",
       "  20,\n",
       "  21,\n",
       "  22,\n",
       "  23,\n",
       "  24,\n",
       "  25,\n",
       "  26,\n",
       "  27,\n",
       "  28,\n",
       "  29,\n",
       "  30,\n",
       "  31,\n",
       "  32,\n",
       "  33,\n",
       "  34,\n",
       "  35],\n",
       " [Text(0, 0, ''),\n",
       "  Text(0, 0, ''),\n",
       "  Text(0, 0, ''),\n",
       "  Text(0, 0, ''),\n",
       "  Text(0, 0, ''),\n",
       "  Text(0, 0, ''),\n",
       "  Text(0, 0, ''),\n",
       "  Text(0, 0, ''),\n",
       "  Text(0, 0, ''),\n",
       "  Text(0, 0, ''),\n",
       "  Text(0, 0, ''),\n",
       "  Text(0, 0, ''),\n",
       "  Text(0, 0, ''),\n",
       "  Text(0, 0, ''),\n",
       "  Text(0, 0, ''),\n",
       "  Text(0, 0, ''),\n",
       "  Text(0, 0, ''),\n",
       "  Text(0, 0, ''),\n",
       "  Text(0, 0, ''),\n",
       "  Text(0, 0, ''),\n",
       "  Text(0, 0, ''),\n",
       "  Text(0, 0, ''),\n",
       "  Text(0, 0, ''),\n",
       "  Text(0, 0, ''),\n",
       "  Text(0, 0, ''),\n",
       "  Text(0, 0, ''),\n",
       "  Text(0, 0, ''),\n",
       "  Text(0, 0, ''),\n",
       "  Text(0, 0, ''),\n",
       "  Text(0, 0, ''),\n",
       "  Text(0, 0, ''),\n",
       "  Text(0, 0, ''),\n",
       "  Text(0, 0, ''),\n",
       "  Text(0, 0, ''),\n",
       "  Text(0, 0, ''),\n",
       "  Text(0, 0, '')])"
      ]
     },
     "execution_count": 75,
     "metadata": {},
     "output_type": "execute_result"
    },
    {
     "data": {
      "image/png": "[encoded data removed]",
      "text/plain": [
       "<Figure size 432x288 with 3 Axes>"
      ]
     },
     "metadata": {
      "needs_background": "light"
     },
     "output_type": "display_data"
    }
   ],
   "source": [
    "fig, axs = plt.subplots(3, sharex=True, sharey=True)\n",
    "fig.suptitle(\"State/union territory wise confirmed cases,deaths and cured cases in 2020\")\n",
    "axs[0].plot(df5['State/UnionTerritory'],df5['Confirmed'], color = \"Green\")\n",
    "axs[1].plot(df5['State/UnionTerritory'],df5['Deaths'], color = \"Red\")\n",
    "axs[2].plot(df5['State/UnionTerritory'],df5['Cured'], color = \"Yellow\")\n",
    "plt.xticks(rotation = 90)"
   ]
  },
  {
   "cell_type": "code",
   "execution_count": 76,
   "id": "7f1e9a67",
   "metadata": {
    "execution": {
     "iopub.execute_input": "2023-03-31T07:42:47.196623Z",
     "iopub.status.busy": "2023-03-31T07:42:47.195418Z",
     "iopub.status.idle": "2023-03-31T07:42:47.204219Z",
     "shell.execute_reply": "2023-03-31T07:42:47.203108Z"
    },
    "papermill": {
     "duration": 0.029917,
     "end_time": "2023-03-31T07:42:47.206591",
     "exception": false,
     "start_time": "2023-03-31T07:42:47.176674",
     "status": "completed"
    },
    "tags": []
   },
   "outputs": [
    {
     "data": {
      "text/plain": [
       "(10266674, 9860280, 148738)"
      ]
     },
     "execution_count": 76,
     "metadata": {},
     "output_type": "execute_result"
    }
   ],
   "source": [
    "data=df5['Confirmed'].sum(),df5['Cured'].sum(),df5['Deaths'].sum()\n",
    "data"
   ]
  },
  {
   "cell_type": "code",
   "execution_count": 77,
   "id": "fc964103",
   "metadata": {
    "execution": {
     "iopub.execute_input": "2023-03-31T07:42:47.242289Z",
     "iopub.status.busy": "2023-03-31T07:42:47.241209Z",
     "iopub.status.idle": "2023-03-31T07:42:47.379869Z",
     "shell.execute_reply": "2023-03-31T07:42:47.378369Z"
    },
    "papermill": {
     "duration": 0.160866,
     "end_time": "2023-03-31T07:42:47.384102",
     "exception": false,
     "start_time": "2023-03-31T07:42:47.223236",
     "status": "completed"
    },
    "tags": []
   },
   "outputs": [
    {
     "data": {
      "image/png": "[encoded data removed]",
      "text/plain": [
       "<Figure size 432x288 with 1 Axes>"
      ]
     },
     "metadata": {},
     "output_type": "display_data"
    }
   ],
   "source": [
    "my_labels = 'Confirmed','Cured','Deaths'\n",
    "plt.pie(data,labels=my_labels,autopct='%1.1f%%')\n",
    "plt.axis('equal')\n",
    "plt.title('Number of confirmed,deaths and cured in 2020')\n",
    "plt.show()"
   ]
  },
  {
   "cell_type": "code",
   "execution_count": null,
   "id": "8aeafe9f",
   "metadata": {},
   "outputs": [],
   "source": []
  }
 ],
 "metadata": {
  "kernelspec": {
   "display_name": "Python 3 (ipykernel)",
   "language": "python",
   "name": "python3"
  },
  "language_info": {
   "codemirror_mode": {
    "name": "ipython",
    "version": 3
   },
   "file_extension": ".py",
   "mimetype": "text/x-python",
   "name": "python",
   "nbconvert_exporter": "python",
   "pygments_lexer": "ipython3",
   "version": "3.9.7"
  },
  "papermill": {
   "default_parameters": {},
   "duration": 68.771378,
   "end_time": "2023-03-31T07:42:48.552165",
   "environment_variables": {},
   "exception": null,
   "input_path": "__notebook__.ipynb",
   "output_path": "__notebook__.ipynb",
   "parameters": {},
   "start_time": "2023-03-31T07:41:39.780787",
   "version": "2.4.0"
  }
 },
 "nbformat": 4,
 "nbformat_minor": 5
}
